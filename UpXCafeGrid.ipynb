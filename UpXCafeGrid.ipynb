{
 "cells": [
  {
   "cell_type": "code",
   "execution_count": 1,
   "metadata": {
    "extensions": {
     "jupyter_dashboards": {
      "version": 1,
      "views": {
       "grid_default": {
        "col": 0,
        "height": 4,
        "hidden": true,
        "row": 0,
        "width": 4
       },
       "report_default": {
        "hidden": false
       }
      }
     }
    }
   },
   "outputs": [
    {
     "data": {
      "text/html": [
       "\n",
       "    <div class=\"bk-root\">\n",
       "        <a href=\"http://bokeh.pydata.org\" target=\"_blank\" class=\"bk-logo bk-logo-small bk-logo-notebook\"></a>\n",
       "        <span id=\"fb6cb449-540e-41b8-b49b-b0b143ff8e7c\">Loading BokehJS ...</span>\n",
       "    </div>"
      ]
     },
     "metadata": {},
     "output_type": "display_data"
    },
    {
     "data": {
      "application/javascript": [
       "\n",
       "(function(global) {\n",
       "  function now() {\n",
       "    return new Date();\n",
       "  }\n",
       "\n",
       "  var force = true;\n",
       "\n",
       "  if (typeof (window._bokeh_onload_callbacks) === \"undefined\" || force === true) {\n",
       "    window._bokeh_onload_callbacks = [];\n",
       "    window._bokeh_is_loading = undefined;\n",
       "  }\n",
       "\n",
       "\n",
       "  \n",
       "  if (typeof (window._bokeh_timeout) === \"undefined\" || force === true) {\n",
       "    window._bokeh_timeout = Date.now() + 5000;\n",
       "    window._bokeh_failed_load = false;\n",
       "  }\n",
       "\n",
       "  var NB_LOAD_WARNING = {'data': {'text/html':\n",
       "     \"<div style='background-color: #fdd'>\\n\"+\n",
       "     \"<p>\\n\"+\n",
       "     \"BokehJS does not appear to have successfully loaded. If loading BokehJS from CDN, this \\n\"+\n",
       "     \"may be due to a slow or bad network connection. Possible fixes:\\n\"+\n",
       "     \"</p>\\n\"+\n",
       "     \"<ul>\\n\"+\n",
       "     \"<li>re-rerun `output_notebook()` to attempt to load from CDN again, or</li>\\n\"+\n",
       "     \"<li>use INLINE resources instead, as so:</li>\\n\"+\n",
       "     \"</ul>\\n\"+\n",
       "     \"<code>\\n\"+\n",
       "     \"from bokeh.resources import INLINE\\n\"+\n",
       "     \"output_notebook(resources=INLINE)\\n\"+\n",
       "     \"</code>\\n\"+\n",
       "     \"</div>\"}};\n",
       "\n",
       "  function display_loaded() {\n",
       "    if (window.Bokeh !== undefined) {\n",
       "      var el = document.getElementById(\"fb6cb449-540e-41b8-b49b-b0b143ff8e7c\");\n",
       "      el.textContent = \"BokehJS \" + Bokeh.version + \" successfully loaded.\";\n",
       "    } else if (Date.now() < window._bokeh_timeout) {\n",
       "      setTimeout(display_loaded, 100)\n",
       "    }\n",
       "  }\n",
       "\n",
       "  function run_callbacks() {\n",
       "    window._bokeh_onload_callbacks.forEach(function(callback) { callback() });\n",
       "    delete window._bokeh_onload_callbacks\n",
       "    console.info(\"Bokeh: all callbacks have finished\");\n",
       "  }\n",
       "\n",
       "  function load_libs(js_urls, callback) {\n",
       "    window._bokeh_onload_callbacks.push(callback);\n",
       "    if (window._bokeh_is_loading > 0) {\n",
       "      console.log(\"Bokeh: BokehJS is being loaded, scheduling callback at\", now());\n",
       "      return null;\n",
       "    }\n",
       "    if (js_urls == null || js_urls.length === 0) {\n",
       "      run_callbacks();\n",
       "      return null;\n",
       "    }\n",
       "    console.log(\"Bokeh: BokehJS not loaded, scheduling load and callback at\", now());\n",
       "    window._bokeh_is_loading = js_urls.length;\n",
       "    for (var i = 0; i < js_urls.length; i++) {\n",
       "      var url = js_urls[i];\n",
       "      var s = document.createElement('script');\n",
       "      s.src = url;\n",
       "      s.async = false;\n",
       "      s.onreadystatechange = s.onload = function() {\n",
       "        window._bokeh_is_loading--;\n",
       "        if (window._bokeh_is_loading === 0) {\n",
       "          console.log(\"Bokeh: all BokehJS libraries loaded\");\n",
       "          run_callbacks()\n",
       "        }\n",
       "      };\n",
       "      s.onerror = function() {\n",
       "        console.warn(\"failed to load library \" + url);\n",
       "      };\n",
       "      console.log(\"Bokeh: injecting script tag for BokehJS library: \", url);\n",
       "      document.getElementsByTagName(\"head\")[0].appendChild(s);\n",
       "    }\n",
       "  };var element = document.getElementById(\"fb6cb449-540e-41b8-b49b-b0b143ff8e7c\");\n",
       "  if (element == null) {\n",
       "    console.log(\"Bokeh: ERROR: autoload.js configured with elementid 'fb6cb449-540e-41b8-b49b-b0b143ff8e7c' but no matching script tag was found. \")\n",
       "    return false;\n",
       "  }\n",
       "\n",
       "  var js_urls = [\"https://cdn.pydata.org/bokeh/release/bokeh-0.12.5.min.js\", \"https://cdn.pydata.org/bokeh/release/bokeh-widgets-0.12.5.min.js\"];\n",
       "\n",
       "  var inline_js = [\n",
       "    function(Bokeh) {\n",
       "      Bokeh.set_log_level(\"info\");\n",
       "    },\n",
       "    \n",
       "    function(Bokeh) {\n",
       "      \n",
       "    },\n",
       "    \n",
       "    function(Bokeh) {\n",
       "      \n",
       "      document.getElementById(\"fb6cb449-540e-41b8-b49b-b0b143ff8e7c\").textContent = \"BokehJS is loading...\";\n",
       "    },\n",
       "    function(Bokeh) {\n",
       "      console.log(\"Bokeh: injecting CSS: https://cdn.pydata.org/bokeh/release/bokeh-0.12.5.min.css\");\n",
       "      Bokeh.embed.inject_css(\"https://cdn.pydata.org/bokeh/release/bokeh-0.12.5.min.css\");\n",
       "      console.log(\"Bokeh: injecting CSS: https://cdn.pydata.org/bokeh/release/bokeh-widgets-0.12.5.min.css\");\n",
       "      Bokeh.embed.inject_css(\"https://cdn.pydata.org/bokeh/release/bokeh-widgets-0.12.5.min.css\");\n",
       "    }\n",
       "  ];\n",
       "\n",
       "  function run_inline_js() {\n",
       "    \n",
       "    if ((window.Bokeh !== undefined) || (force === true)) {\n",
       "      for (var i = 0; i < inline_js.length; i++) {\n",
       "        inline_js[i](window.Bokeh);\n",
       "      }if (force === true) {\n",
       "        display_loaded();\n",
       "      }} else if (Date.now() < window._bokeh_timeout) {\n",
       "      setTimeout(run_inline_js, 100);\n",
       "    } else if (!window._bokeh_failed_load) {\n",
       "      console.log(\"Bokeh: BokehJS failed to load within specified timeout.\");\n",
       "      window._bokeh_failed_load = true;\n",
       "    } else if (force !== true) {\n",
       "      var cell = $(document.getElementById(\"fb6cb449-540e-41b8-b49b-b0b143ff8e7c\")).parents('.cell').data().cell;\n",
       "      cell.output_area.append_execute_result(NB_LOAD_WARNING)\n",
       "    }\n",
       "\n",
       "  }\n",
       "\n",
       "  if (window._bokeh_is_loading === 0) {\n",
       "    console.log(\"Bokeh: BokehJS loaded, going straight to plotting\");\n",
       "    run_inline_js();\n",
       "  } else {\n",
       "    load_libs(js_urls, function() {\n",
       "      console.log(\"Bokeh: BokehJS plotting callback run at\", now());\n",
       "      run_inline_js();\n",
       "    });\n",
       "  }\n",
       "}(this));"
      ]
     },
     "metadata": {},
     "output_type": "display_data"
    }
   ],
   "source": [
    "import numpy as np\n",
    "import pandas as pd\n",
    "import json\n",
    "from ipywidgets import interact\n",
    "from bokeh.plotting import figure, show, ColumnDataSource\n",
    "from bokeh.io import push_notebook, show, output_notebook\n",
    "from bokeh.plotting import figure\n",
    "output_notebook()"
   ]
  },
  {
   "cell_type": "code",
   "execution_count": null,
   "metadata": {
    "collapsed": true,
    "extensions": {
     "jupyter_dashboards": {
      "version": 1,
      "views": {
       "grid_default": {
        "hidden": true
       },
       "report_default": {
        "hidden": true
       }
      }
     }
    }
   },
   "outputs": [],
   "source": [
    "#your_local_path=\"F:/Study/Dashboard/Coffee/\""
   ]
  },
  {
   "cell_type": "code",
   "execution_count": 2,
   "metadata": {
    "extensions": {
     "jupyter_dashboards": {
      "version": 1,
      "views": {
       "grid_default": {
        "hidden": true
       },
       "report_default": {
        "hidden": false
       }
      }
     }
    }
   },
   "outputs": [
    {
     "data": {
      "text/html": [
       "<div>\n",
       "<style>\n",
       "    .dataframe thead tr:only-child th {\n",
       "        text-align: right;\n",
       "    }\n",
       "\n",
       "    .dataframe thead th {\n",
       "        text-align: left;\n",
       "    }\n",
       "\n",
       "    .dataframe tbody tr th {\n",
       "        vertical-align: top;\n",
       "    }\n",
       "</style>\n",
       "<table border=\"1\" class=\"dataframe\">\n",
       "  <thead>\n",
       "    <tr style=\"text-align: right;\">\n",
       "      <th></th>\n",
       "      <th>Brand</th>\n",
       "      <th>City</th>\n",
       "      <th>Coordinates</th>\n",
       "      <th>Country</th>\n",
       "      <th>Latitude</th>\n",
       "      <th>Longitude</th>\n",
       "      <th>Monthly Data</th>\n",
       "      <th>Name</th>\n",
       "      <th>Ownership Type</th>\n",
       "      <th>Phone Number</th>\n",
       "      <th>Start Date</th>\n",
       "      <th>State</th>\n",
       "      <th>Store ID</th>\n",
       "      <th>Store Number</th>\n",
       "      <th>Street 1</th>\n",
       "      <th>Street 2</th>\n",
       "      <th>Street 3</th>\n",
       "      <th>Street Combined</th>\n",
       "    </tr>\n",
       "  </thead>\n",
       "  <tbody>\n",
       "    <tr>\n",
       "      <th>0</th>\n",
       "      <td>UpXBev</td>\n",
       "      <td>Pune</td>\n",
       "      <td>(18.5393486022949, 73.886962890625)</td>\n",
       "      <td>IN</td>\n",
       "      <td>18.539349</td>\n",
       "      <td>73.886963</td>\n",
       "      <td>{\"2013:10\":{\"NoOfEmployees\":12.0,\"CostIncurred...</td>\n",
       "      <td>Koregaon Park</td>\n",
       "      <td>JV</td>\n",
       "      <td>NaN</td>\n",
       "      <td>2013-08-12</td>\n",
       "      <td>MH</td>\n",
       "      <td>1005998</td>\n",
       "      <td>20455-205764</td>\n",
       "      <td>1 Galaxy Gardens</td>\n",
       "      <td>North Main Road</td>\n",
       "      <td>NaN</td>\n",
       "      <td>1 Galaxy Gardens, North Main Road</td>\n",
       "    </tr>\n",
       "    <tr>\n",
       "      <th>1</th>\n",
       "      <td>UpXBev</td>\n",
       "      <td>Pune</td>\n",
       "      <td>(18.5181407928467, 73.9355545043945)</td>\n",
       "      <td>IN</td>\n",
       "      <td>18.518141</td>\n",
       "      <td>73.935554</td>\n",
       "      <td>{\"2013:10\":{\"NoOfEmployees\":12.0,\"CostIncurred...</td>\n",
       "      <td>Hadapsar</td>\n",
       "      <td>JV</td>\n",
       "      <td>NaN</td>\n",
       "      <td>2013-08-12</td>\n",
       "      <td>MH</td>\n",
       "      <td>1006078</td>\n",
       "      <td>21335-210964</td>\n",
       "      <td>Ground Floor, West Block</td>\n",
       "      <td>Amanora Town Centre, Hadapsar</td>\n",
       "      <td>NaN</td>\n",
       "      <td>Ground Floor, West Block, Amanora Town Centre,...</td>\n",
       "    </tr>\n",
       "    <tr>\n",
       "      <th>2</th>\n",
       "      <td>UpXBev</td>\n",
       "      <td>Pune</td>\n",
       "      <td>(18.5621700286865, 73.9169998168945)</td>\n",
       "      <td>IN</td>\n",
       "      <td>18.562170</td>\n",
       "      <td>73.917000</td>\n",
       "      <td>{\"2013:10\":{\"NoOfEmployees\":12.0,\"CostIncurred...</td>\n",
       "      <td>Viman Nagar</td>\n",
       "      <td>JV</td>\n",
       "      <td>NaN</td>\n",
       "      <td>2013-08-12</td>\n",
       "      <td>MH</td>\n",
       "      <td>1006293</td>\n",
       "      <td>20477-206185</td>\n",
       "      <td>Ground floor, Phoenix Market City</td>\n",
       "      <td>Viman Nagar</td>\n",
       "      <td>NaN</td>\n",
       "      <td>Ground floor, Phoenix Market City, Viman Nagar</td>\n",
       "    </tr>\n",
       "    <tr>\n",
       "      <th>3</th>\n",
       "      <td>UpXBev</td>\n",
       "      <td>Pune</td>\n",
       "      <td>(18.5566577911377, 73.8087768554688)</td>\n",
       "      <td>IN</td>\n",
       "      <td>18.556658</td>\n",
       "      <td>73.808777</td>\n",
       "      <td>{\"2014:1\":{\"NoOfEmployees\":11.0,\"CostIncurredA...</td>\n",
       "      <td>Aundh</td>\n",
       "      <td>JV</td>\n",
       "      <td>NaN</td>\n",
       "      <td>2013-12-27</td>\n",
       "      <td>MH</td>\n",
       "      <td>1006430</td>\n",
       "      <td>21819-215804</td>\n",
       "      <td>Ground floor, Centriole</td>\n",
       "      <td>Anand Park, ITI Road, Aundh</td>\n",
       "      <td>NaN</td>\n",
       "      <td>Ground floor, Centriole, Anand Park, ITI Road,...</td>\n",
       "    </tr>\n",
       "    <tr>\n",
       "      <th>4</th>\n",
       "      <td>UpXBev</td>\n",
       "      <td>Pune</td>\n",
       "      <td>(18.5192337036133, 73.9313888549805)</td>\n",
       "      <td>IN</td>\n",
       "      <td>18.519234</td>\n",
       "      <td>73.931389</td>\n",
       "      <td>{\"2014:10\":{\"NoOfEmployees\":18.0,\"CostIncurred...</td>\n",
       "      <td>Magarpatta</td>\n",
       "      <td>JV</td>\n",
       "      <td>NaN</td>\n",
       "      <td>2014-03-19</td>\n",
       "      <td>MH</td>\n",
       "      <td>1008301</td>\n",
       "      <td>21828-215807</td>\n",
       "      <td>First Floor, Seasons Mall</td>\n",
       "      <td>Magarpatta City, Hadapsar</td>\n",
       "      <td>NaN</td>\n",
       "      <td>First Floor, Seasons Mall, Magarpatta City, Ha...</td>\n",
       "    </tr>\n",
       "    <tr>\n",
       "      <th>5</th>\n",
       "      <td>UpXBev</td>\n",
       "      <td>Pune</td>\n",
       "      <td>(18.5512065887451, 73.9511260986328)</td>\n",
       "      <td>IN</td>\n",
       "      <td>18.551207</td>\n",
       "      <td>73.951126</td>\n",
       "      <td>{\"2014:11\":{\"NoOfEmployees\":11.0,\"CostIncurred...</td>\n",
       "      <td>Kharadi</td>\n",
       "      <td>JV</td>\n",
       "      <td>NaN</td>\n",
       "      <td>2014-10-17</td>\n",
       "      <td>MH</td>\n",
       "      <td>1006847</td>\n",
       "      <td>22444-221266</td>\n",
       "      <td>Ground Floor, EON Free Zone, Cluster A</td>\n",
       "      <td>MIDC, Kharadi Knowledge Park</td>\n",
       "      <td>NaN</td>\n",
       "      <td>Ground Floor, EON Free Zone, Cluster A, MIDC, ...</td>\n",
       "    </tr>\n",
       "    <tr>\n",
       "      <th>6</th>\n",
       "      <td>UpXBev</td>\n",
       "      <td>Pune</td>\n",
       "      <td>(18.5225429534912, 73.8412475585938)</td>\n",
       "      <td>IN</td>\n",
       "      <td>18.522543</td>\n",
       "      <td>73.841248</td>\n",
       "      <td>{\"2015:10\":{\"NoOfEmployees\":21.0,\"CostIncurred...</td>\n",
       "      <td>FC Road</td>\n",
       "      <td>JV</td>\n",
       "      <td>NaN</td>\n",
       "      <td>2015-02-28</td>\n",
       "      <td>MH</td>\n",
       "      <td>1009750</td>\n",
       "      <td>23144-228270</td>\n",
       "      <td>Mosaic Ground Floor West</td>\n",
       "      <td>Across Fergusson College Gate 2, FC Rd</td>\n",
       "      <td>NaN</td>\n",
       "      <td>Mosaic Ground Floor West, Across Fergusson Col...</td>\n",
       "    </tr>\n",
       "  </tbody>\n",
       "</table>\n",
       "</div>"
      ],
      "text/plain": [
       "    Brand  City                           Coordinates Country   Latitude  \\\n",
       "0  UpXBev  Pune   (18.5393486022949, 73.886962890625)      IN  18.539349   \n",
       "1  UpXBev  Pune  (18.5181407928467, 73.9355545043945)      IN  18.518141   \n",
       "2  UpXBev  Pune  (18.5621700286865, 73.9169998168945)      IN  18.562170   \n",
       "3  UpXBev  Pune  (18.5566577911377, 73.8087768554688)      IN  18.556658   \n",
       "4  UpXBev  Pune  (18.5192337036133, 73.9313888549805)      IN  18.519234   \n",
       "5  UpXBev  Pune  (18.5512065887451, 73.9511260986328)      IN  18.551207   \n",
       "6  UpXBev  Pune  (18.5225429534912, 73.8412475585938)      IN  18.522543   \n",
       "\n",
       "   Longitude                                       Monthly Data  \\\n",
       "0  73.886963  {\"2013:10\":{\"NoOfEmployees\":12.0,\"CostIncurred...   \n",
       "1  73.935554  {\"2013:10\":{\"NoOfEmployees\":12.0,\"CostIncurred...   \n",
       "2  73.917000  {\"2013:10\":{\"NoOfEmployees\":12.0,\"CostIncurred...   \n",
       "3  73.808777  {\"2014:1\":{\"NoOfEmployees\":11.0,\"CostIncurredA...   \n",
       "4  73.931389  {\"2014:10\":{\"NoOfEmployees\":18.0,\"CostIncurred...   \n",
       "5  73.951126  {\"2014:11\":{\"NoOfEmployees\":11.0,\"CostIncurred...   \n",
       "6  73.841248  {\"2015:10\":{\"NoOfEmployees\":21.0,\"CostIncurred...   \n",
       "\n",
       "            Name Ownership Type  Phone Number  Start Date State  Store ID  \\\n",
       "0  Koregaon Park             JV           NaN  2013-08-12    MH   1005998   \n",
       "1       Hadapsar             JV           NaN  2013-08-12    MH   1006078   \n",
       "2    Viman Nagar             JV           NaN  2013-08-12    MH   1006293   \n",
       "3          Aundh             JV           NaN  2013-12-27    MH   1006430   \n",
       "4     Magarpatta             JV           NaN  2014-03-19    MH   1008301   \n",
       "5        Kharadi             JV           NaN  2014-10-17    MH   1006847   \n",
       "6        FC Road             JV           NaN  2015-02-28    MH   1009750   \n",
       "\n",
       "   Store Number                                Street 1  \\\n",
       "0  20455-205764                        1 Galaxy Gardens   \n",
       "1  21335-210964                Ground Floor, West Block   \n",
       "2  20477-206185       Ground floor, Phoenix Market City   \n",
       "3  21819-215804                 Ground floor, Centriole   \n",
       "4  21828-215807               First Floor, Seasons Mall   \n",
       "5  22444-221266  Ground Floor, EON Free Zone, Cluster A   \n",
       "6  23144-228270                Mosaic Ground Floor West   \n",
       "\n",
       "                                 Street 2  Street 3  \\\n",
       "0                         North Main Road       NaN   \n",
       "1           Amanora Town Centre, Hadapsar       NaN   \n",
       "2                             Viman Nagar       NaN   \n",
       "3             Anand Park, ITI Road, Aundh       NaN   \n",
       "4               Magarpatta City, Hadapsar       NaN   \n",
       "5            MIDC, Kharadi Knowledge Park       NaN   \n",
       "6  Across Fergusson College Gate 2, FC Rd       NaN   \n",
       "\n",
       "                                     Street Combined  \n",
       "0                  1 Galaxy Gardens, North Main Road  \n",
       "1  Ground Floor, West Block, Amanora Town Centre,...  \n",
       "2     Ground floor, Phoenix Market City, Viman Nagar  \n",
       "3  Ground floor, Centriole, Anand Park, ITI Road,...  \n",
       "4  First Floor, Seasons Mall, Magarpatta City, Ha...  \n",
       "5  Ground Floor, EON Free Zone, Cluster A, MIDC, ...  \n",
       "6  Mosaic Ground Floor West, Across Fergusson Col...  "
      ]
     },
     "execution_count": 2,
     "metadata": {},
     "output_type": "execute_result"
    }
   ],
   "source": [
    "coffee = pd.read_json('Cafe1.json')\n",
    "coffee.reset_index(drop=True)"
   ]
  },
  {
   "cell_type": "code",
   "execution_count": 3,
   "metadata": {
    "extensions": {
     "jupyter_dashboards": {
      "version": 1,
      "views": {
       "grid_default": {
        "hidden": true
       },
       "report_default": {
        "hidden": false
       }
      }
     }
    }
   },
   "outputs": [
    {
     "data": {
      "text/html": [
       "<div>\n",
       "<style>\n",
       "    .dataframe thead tr:only-child th {\n",
       "        text-align: right;\n",
       "    }\n",
       "\n",
       "    .dataframe thead th {\n",
       "        text-align: left;\n",
       "    }\n",
       "\n",
       "    .dataframe tbody tr th {\n",
       "        vertical-align: top;\n",
       "    }\n",
       "</style>\n",
       "<table border=\"1\" class=\"dataframe\">\n",
       "  <thead>\n",
       "    <tr style=\"text-align: right;\">\n",
       "      <th></th>\n",
       "      <th>2013:10</th>\n",
       "      <th>2013:11</th>\n",
       "      <th>2013:12</th>\n",
       "      <th>2013:9</th>\n",
       "      <th>2014:1</th>\n",
       "      <th>2014:10</th>\n",
       "      <th>2014:11</th>\n",
       "      <th>2014:12</th>\n",
       "      <th>2014:2</th>\n",
       "      <th>2014:3</th>\n",
       "      <th>...</th>\n",
       "      <th>2016:8</th>\n",
       "      <th>2016:9</th>\n",
       "      <th>2017:1</th>\n",
       "      <th>2017:2</th>\n",
       "      <th>2017:3</th>\n",
       "      <th>2017:4</th>\n",
       "      <th>2017:5</th>\n",
       "      <th>2017:6</th>\n",
       "      <th>2017:7</th>\n",
       "      <th>2017:8</th>\n",
       "    </tr>\n",
       "  </thead>\n",
       "  <tbody>\n",
       "    <tr>\n",
       "      <th>0</th>\n",
       "      <td>{'NoOfEmployees': 12.0, 'CostIncurredAtStore':...</td>\n",
       "      <td>{'NoOfEmployees': 13.0, 'CostIncurredAtStore':...</td>\n",
       "      <td>{'NoOfEmployees': 14.0, 'CostIncurredAtStore':...</td>\n",
       "      <td>{'NoOfEmployees': 11.0, 'CostIncurredAtStore':...</td>\n",
       "      <td>{'NoOfEmployees': 15.0, 'CostIncurredAtStore':...</td>\n",
       "      <td>{'NoOfEmployees': 31.0, 'CostIncurredAtStore':...</td>\n",
       "      <td>{'NoOfEmployees': 32.0, 'CostIncurredAtStore':...</td>\n",
       "      <td>{'NoOfEmployees': 34.0, 'CostIncurredAtStore':...</td>\n",
       "      <td>{'NoOfEmployees': 16.0, 'CostIncurredAtStore':...</td>\n",
       "      <td>{'NoOfEmployees': 17.0, 'CostIncurredAtStore':...</td>\n",
       "      <td>...</td>\n",
       "      <td>{'NoOfEmployees': 114.0, 'CostIncurredAtStore'...</td>\n",
       "      <td>{'NoOfEmployees': 122.0, 'CostIncurredAtStore'...</td>\n",
       "      <td>{'NoOfEmployees': 146.0, 'CostIncurredAtStore'...</td>\n",
       "      <td>{'NoOfEmployees': 157.0, 'CostIncurredAtStore'...</td>\n",
       "      <td>{'NoOfEmployees': 170.0, 'CostIncurredAtStore'...</td>\n",
       "      <td>{'NoOfEmployees': 176.0, 'CostIncurredAtStore'...</td>\n",
       "      <td>{'NoOfEmployees': 190.0, 'CostIncurredAtStore'...</td>\n",
       "      <td>{'NoOfEmployees': 206.0, 'CostIncurredAtStore'...</td>\n",
       "      <td>{'NoOfEmployees': 215.0, 'CostIncurredAtStore'...</td>\n",
       "      <td>{'NoOfEmployees': 222.0, 'CostIncurredAtStore'...</td>\n",
       "    </tr>\n",
       "    <tr>\n",
       "      <th>1</th>\n",
       "      <td>{'NoOfEmployees': 12.0, 'CostIncurredAtStore':...</td>\n",
       "      <td>{'NoOfEmployees': 13.0, 'CostIncurredAtStore':...</td>\n",
       "      <td>{'NoOfEmployees': 14.0, 'CostIncurredAtStore':...</td>\n",
       "      <td>{'NoOfEmployees': 11.0, 'CostIncurredAtStore':...</td>\n",
       "      <td>{'NoOfEmployees': 15.0, 'CostIncurredAtStore':...</td>\n",
       "      <td>{'NoOfEmployees': 30.0, 'CostIncurredAtStore':...</td>\n",
       "      <td>{'NoOfEmployees': 31.0, 'CostIncurredAtStore':...</td>\n",
       "      <td>{'NoOfEmployees': 34.0, 'CostIncurredAtStore':...</td>\n",
       "      <td>{'NoOfEmployees': 17.0, 'CostIncurredAtStore':...</td>\n",
       "      <td>{'NoOfEmployees': 18.0, 'CostIncurredAtStore':...</td>\n",
       "      <td>...</td>\n",
       "      <td>{'NoOfEmployees': 147.0, 'CostIncurredAtStore'...</td>\n",
       "      <td>{'NoOfEmployees': 160.0, 'CostIncurredAtStore'...</td>\n",
       "      <td>{'NoOfEmployees': 212.0, 'CostIncurredAtStore'...</td>\n",
       "      <td>{'NoOfEmployees': 223.0, 'CostIncurredAtStore'...</td>\n",
       "      <td>{'NoOfEmployees': 239.0, 'CostIncurredAtStore'...</td>\n",
       "      <td>{'NoOfEmployees': 257.0, 'CostIncurredAtStore'...</td>\n",
       "      <td>{'NoOfEmployees': 268.0, 'CostIncurredAtStore'...</td>\n",
       "      <td>{'NoOfEmployees': 293.0, 'CostIncurredAtStore'...</td>\n",
       "      <td>{'NoOfEmployees': 304.0, 'CostIncurredAtStore'...</td>\n",
       "      <td>{'NoOfEmployees': 317.0, 'CostIncurredAtStore'...</td>\n",
       "    </tr>\n",
       "    <tr>\n",
       "      <th>2</th>\n",
       "      <td>{'NoOfEmployees': 12.0, 'CostIncurredAtStore':...</td>\n",
       "      <td>{'NoOfEmployees': 13.0, 'CostIncurredAtStore':...</td>\n",
       "      <td>{'NoOfEmployees': 14.0, 'CostIncurredAtStore':...</td>\n",
       "      <td>{'NoOfEmployees': 11.0, 'CostIncurredAtStore':...</td>\n",
       "      <td>{'NoOfEmployees': 15.0, 'CostIncurredAtStore':...</td>\n",
       "      <td>{'NoOfEmployees': 28.0, 'CostIncurredAtStore':...</td>\n",
       "      <td>{'NoOfEmployees': 30.0, 'CostIncurredAtStore':...</td>\n",
       "      <td>{'NoOfEmployees': 32.0, 'CostIncurredAtStore':...</td>\n",
       "      <td>{'NoOfEmployees': 16.0, 'CostIncurredAtStore':...</td>\n",
       "      <td>{'NoOfEmployees': 17.0, 'CostIncurredAtStore':...</td>\n",
       "      <td>...</td>\n",
       "      <td>{'NoOfEmployees': 94.0, 'CostIncurredAtStore':...</td>\n",
       "      <td>{'NoOfEmployees': 103.0, 'CostIncurredAtStore'...</td>\n",
       "      <td>{'NoOfEmployees': 135.0, 'CostIncurredAtStore'...</td>\n",
       "      <td>{'NoOfEmployees': 148.0, 'CostIncurredAtStore'...</td>\n",
       "      <td>{'NoOfEmployees': 157.0, 'CostIncurredAtStore'...</td>\n",
       "      <td>{'NoOfEmployees': 166.0, 'CostIncurredAtStore'...</td>\n",
       "      <td>{'NoOfEmployees': 179.0, 'CostIncurredAtStore'...</td>\n",
       "      <td>{'NoOfEmployees': 193.0, 'CostIncurredAtStore'...</td>\n",
       "      <td>{'NoOfEmployees': 204.0, 'CostIncurredAtStore'...</td>\n",
       "      <td>{'NoOfEmployees': 223.0, 'CostIncurredAtStore'...</td>\n",
       "    </tr>\n",
       "    <tr>\n",
       "      <th>3</th>\n",
       "      <td>NaN</td>\n",
       "      <td>NaN</td>\n",
       "      <td>NaN</td>\n",
       "      <td>NaN</td>\n",
       "      <td>{'NoOfEmployees': 11.0, 'CostIncurredAtStore':...</td>\n",
       "      <td>{'NoOfEmployees': 24.0, 'CostIncurredAtStore':...</td>\n",
       "      <td>{'NoOfEmployees': 26.0, 'CostIncurredAtStore':...</td>\n",
       "      <td>{'NoOfEmployees': 27.0, 'CostIncurredAtStore':...</td>\n",
       "      <td>{'NoOfEmployees': 12.0, 'CostIncurredAtStore':...</td>\n",
       "      <td>{'NoOfEmployees': 13.0, 'CostIncurredAtStore':...</td>\n",
       "      <td>...</td>\n",
       "      <td>{'NoOfEmployees': 92.0, 'CostIncurredAtStore':...</td>\n",
       "      <td>{'NoOfEmployees': 100.0, 'CostIncurredAtStore'...</td>\n",
       "      <td>{'NoOfEmployees': 116.0, 'CostIncurredAtStore'...</td>\n",
       "      <td>{'NoOfEmployees': 121.0, 'CostIncurredAtStore'...</td>\n",
       "      <td>{'NoOfEmployees': 123.0, 'CostIncurredAtStore'...</td>\n",
       "      <td>{'NoOfEmployees': 134.0, 'CostIncurredAtStore'...</td>\n",
       "      <td>{'NoOfEmployees': 142.0, 'CostIncurredAtStore'...</td>\n",
       "      <td>{'NoOfEmployees': 151.0, 'CostIncurredAtStore'...</td>\n",
       "      <td>{'NoOfEmployees': 155.0, 'CostIncurredAtStore'...</td>\n",
       "      <td>NaN</td>\n",
       "    </tr>\n",
       "    <tr>\n",
       "      <th>4</th>\n",
       "      <td>NaN</td>\n",
       "      <td>NaN</td>\n",
       "      <td>NaN</td>\n",
       "      <td>NaN</td>\n",
       "      <td>NaN</td>\n",
       "      <td>{'NoOfEmployees': 18.0, 'CostIncurredAtStore':...</td>\n",
       "      <td>{'NoOfEmployees': 19.0, 'CostIncurredAtStore':...</td>\n",
       "      <td>{'NoOfEmployees': 21.0, 'CostIncurredAtStore':...</td>\n",
       "      <td>NaN</td>\n",
       "      <td>NaN</td>\n",
       "      <td>...</td>\n",
       "      <td>{'NoOfEmployees': 72.0, 'CostIncurredAtStore':...</td>\n",
       "      <td>{'NoOfEmployees': 80.0, 'CostIncurredAtStore':...</td>\n",
       "      <td>{'NoOfEmployees': 109.0, 'CostIncurredAtStore'...</td>\n",
       "      <td>{'NoOfEmployees': 117.0, 'CostIncurredAtStore'...</td>\n",
       "      <td>{'NoOfEmployees': 125.0, 'CostIncurredAtStore'...</td>\n",
       "      <td>{'NoOfEmployees': 136.0, 'CostIncurredAtStore'...</td>\n",
       "      <td>{'NoOfEmployees': 149.0, 'CostIncurredAtStore'...</td>\n",
       "      <td>{'NoOfEmployees': 160.0, 'CostIncurredAtStore'...</td>\n",
       "      <td>{'NoOfEmployees': 163.0, 'CostIncurredAtStore'...</td>\n",
       "      <td>{'NoOfEmployees': 174.0, 'CostIncurredAtStore'...</td>\n",
       "    </tr>\n",
       "    <tr>\n",
       "      <th>5</th>\n",
       "      <td>NaN</td>\n",
       "      <td>NaN</td>\n",
       "      <td>NaN</td>\n",
       "      <td>NaN</td>\n",
       "      <td>NaN</td>\n",
       "      <td>NaN</td>\n",
       "      <td>{'NoOfEmployees': 11.0, 'CostIncurredAtStore':...</td>\n",
       "      <td>{'NoOfEmployees': 12.0, 'CostIncurredAtStore':...</td>\n",
       "      <td>NaN</td>\n",
       "      <td>NaN</td>\n",
       "      <td>...</td>\n",
       "      <td>{'NoOfEmployees': 49.0, 'CostIncurredAtStore':...</td>\n",
       "      <td>{'NoOfEmployees': 53.0, 'CostIncurredAtStore':...</td>\n",
       "      <td>{'NoOfEmployees': 62.0, 'CostIncurredAtStore':...</td>\n",
       "      <td>{'NoOfEmployees': 67.0, 'CostIncurredAtStore':...</td>\n",
       "      <td>{'NoOfEmployees': 74.0, 'CostIncurredAtStore':...</td>\n",
       "      <td>{'NoOfEmployees': 77.0, 'CostIncurredAtStore':...</td>\n",
       "      <td>{'NoOfEmployees': 83.0, 'CostIncurredAtStore':...</td>\n",
       "      <td>{'NoOfEmployees': 90.0, 'CostIncurredAtStore':...</td>\n",
       "      <td>{'NoOfEmployees': 97.0, 'CostIncurredAtStore':...</td>\n",
       "      <td>{'NoOfEmployees': 99.0, 'CostIncurredAtStore':...</td>\n",
       "    </tr>\n",
       "    <tr>\n",
       "      <th>6</th>\n",
       "      <td>NaN</td>\n",
       "      <td>NaN</td>\n",
       "      <td>NaN</td>\n",
       "      <td>NaN</td>\n",
       "      <td>NaN</td>\n",
       "      <td>NaN</td>\n",
       "      <td>NaN</td>\n",
       "      <td>NaN</td>\n",
       "      <td>NaN</td>\n",
       "      <td>NaN</td>\n",
       "      <td>...</td>\n",
       "      <td>{'NoOfEmployees': 34.0, 'CostIncurredAtStore':...</td>\n",
       "      <td>{'NoOfEmployees': 36.0, 'CostIncurredAtStore':...</td>\n",
       "      <td>{'NoOfEmployees': 49.0, 'CostIncurredAtStore':...</td>\n",
       "      <td>{'NoOfEmployees': 52.0, 'CostIncurredAtStore':...</td>\n",
       "      <td>{'NoOfEmployees': 55.0, 'CostIncurredAtStore':...</td>\n",
       "      <td>{'NoOfEmployees': 59.0, 'CostIncurredAtStore':...</td>\n",
       "      <td>{'NoOfEmployees': 60.0, 'CostIncurredAtStore':...</td>\n",
       "      <td>{'NoOfEmployees': 61.0, 'CostIncurredAtStore':...</td>\n",
       "      <td>{'NoOfEmployees': 66.0, 'CostIncurredAtStore':...</td>\n",
       "      <td>NaN</td>\n",
       "    </tr>\n",
       "  </tbody>\n",
       "</table>\n",
       "<p>7 rows × 48 columns</p>\n",
       "</div>"
      ],
      "text/plain": [
       "                                             2013:10  \\\n",
       "0  {'NoOfEmployees': 12.0, 'CostIncurredAtStore':...   \n",
       "1  {'NoOfEmployees': 12.0, 'CostIncurredAtStore':...   \n",
       "2  {'NoOfEmployees': 12.0, 'CostIncurredAtStore':...   \n",
       "3                                                NaN   \n",
       "4                                                NaN   \n",
       "5                                                NaN   \n",
       "6                                                NaN   \n",
       "\n",
       "                                             2013:11  \\\n",
       "0  {'NoOfEmployees': 13.0, 'CostIncurredAtStore':...   \n",
       "1  {'NoOfEmployees': 13.0, 'CostIncurredAtStore':...   \n",
       "2  {'NoOfEmployees': 13.0, 'CostIncurredAtStore':...   \n",
       "3                                                NaN   \n",
       "4                                                NaN   \n",
       "5                                                NaN   \n",
       "6                                                NaN   \n",
       "\n",
       "                                             2013:12  \\\n",
       "0  {'NoOfEmployees': 14.0, 'CostIncurredAtStore':...   \n",
       "1  {'NoOfEmployees': 14.0, 'CostIncurredAtStore':...   \n",
       "2  {'NoOfEmployees': 14.0, 'CostIncurredAtStore':...   \n",
       "3                                                NaN   \n",
       "4                                                NaN   \n",
       "5                                                NaN   \n",
       "6                                                NaN   \n",
       "\n",
       "                                              2013:9  \\\n",
       "0  {'NoOfEmployees': 11.0, 'CostIncurredAtStore':...   \n",
       "1  {'NoOfEmployees': 11.0, 'CostIncurredAtStore':...   \n",
       "2  {'NoOfEmployees': 11.0, 'CostIncurredAtStore':...   \n",
       "3                                                NaN   \n",
       "4                                                NaN   \n",
       "5                                                NaN   \n",
       "6                                                NaN   \n",
       "\n",
       "                                              2014:1  \\\n",
       "0  {'NoOfEmployees': 15.0, 'CostIncurredAtStore':...   \n",
       "1  {'NoOfEmployees': 15.0, 'CostIncurredAtStore':...   \n",
       "2  {'NoOfEmployees': 15.0, 'CostIncurredAtStore':...   \n",
       "3  {'NoOfEmployees': 11.0, 'CostIncurredAtStore':...   \n",
       "4                                                NaN   \n",
       "5                                                NaN   \n",
       "6                                                NaN   \n",
       "\n",
       "                                             2014:10  \\\n",
       "0  {'NoOfEmployees': 31.0, 'CostIncurredAtStore':...   \n",
       "1  {'NoOfEmployees': 30.0, 'CostIncurredAtStore':...   \n",
       "2  {'NoOfEmployees': 28.0, 'CostIncurredAtStore':...   \n",
       "3  {'NoOfEmployees': 24.0, 'CostIncurredAtStore':...   \n",
       "4  {'NoOfEmployees': 18.0, 'CostIncurredAtStore':...   \n",
       "5                                                NaN   \n",
       "6                                                NaN   \n",
       "\n",
       "                                             2014:11  \\\n",
       "0  {'NoOfEmployees': 32.0, 'CostIncurredAtStore':...   \n",
       "1  {'NoOfEmployees': 31.0, 'CostIncurredAtStore':...   \n",
       "2  {'NoOfEmployees': 30.0, 'CostIncurredAtStore':...   \n",
       "3  {'NoOfEmployees': 26.0, 'CostIncurredAtStore':...   \n",
       "4  {'NoOfEmployees': 19.0, 'CostIncurredAtStore':...   \n",
       "5  {'NoOfEmployees': 11.0, 'CostIncurredAtStore':...   \n",
       "6                                                NaN   \n",
       "\n",
       "                                             2014:12  \\\n",
       "0  {'NoOfEmployees': 34.0, 'CostIncurredAtStore':...   \n",
       "1  {'NoOfEmployees': 34.0, 'CostIncurredAtStore':...   \n",
       "2  {'NoOfEmployees': 32.0, 'CostIncurredAtStore':...   \n",
       "3  {'NoOfEmployees': 27.0, 'CostIncurredAtStore':...   \n",
       "4  {'NoOfEmployees': 21.0, 'CostIncurredAtStore':...   \n",
       "5  {'NoOfEmployees': 12.0, 'CostIncurredAtStore':...   \n",
       "6                                                NaN   \n",
       "\n",
       "                                              2014:2  \\\n",
       "0  {'NoOfEmployees': 16.0, 'CostIncurredAtStore':...   \n",
       "1  {'NoOfEmployees': 17.0, 'CostIncurredAtStore':...   \n",
       "2  {'NoOfEmployees': 16.0, 'CostIncurredAtStore':...   \n",
       "3  {'NoOfEmployees': 12.0, 'CostIncurredAtStore':...   \n",
       "4                                                NaN   \n",
       "5                                                NaN   \n",
       "6                                                NaN   \n",
       "\n",
       "                                              2014:3  \\\n",
       "0  {'NoOfEmployees': 17.0, 'CostIncurredAtStore':...   \n",
       "1  {'NoOfEmployees': 18.0, 'CostIncurredAtStore':...   \n",
       "2  {'NoOfEmployees': 17.0, 'CostIncurredAtStore':...   \n",
       "3  {'NoOfEmployees': 13.0, 'CostIncurredAtStore':...   \n",
       "4                                                NaN   \n",
       "5                                                NaN   \n",
       "6                                                NaN   \n",
       "\n",
       "                         ...                          \\\n",
       "0                        ...                           \n",
       "1                        ...                           \n",
       "2                        ...                           \n",
       "3                        ...                           \n",
       "4                        ...                           \n",
       "5                        ...                           \n",
       "6                        ...                           \n",
       "\n",
       "                                              2016:8  \\\n",
       "0  {'NoOfEmployees': 114.0, 'CostIncurredAtStore'...   \n",
       "1  {'NoOfEmployees': 147.0, 'CostIncurredAtStore'...   \n",
       "2  {'NoOfEmployees': 94.0, 'CostIncurredAtStore':...   \n",
       "3  {'NoOfEmployees': 92.0, 'CostIncurredAtStore':...   \n",
       "4  {'NoOfEmployees': 72.0, 'CostIncurredAtStore':...   \n",
       "5  {'NoOfEmployees': 49.0, 'CostIncurredAtStore':...   \n",
       "6  {'NoOfEmployees': 34.0, 'CostIncurredAtStore':...   \n",
       "\n",
       "                                              2016:9  \\\n",
       "0  {'NoOfEmployees': 122.0, 'CostIncurredAtStore'...   \n",
       "1  {'NoOfEmployees': 160.0, 'CostIncurredAtStore'...   \n",
       "2  {'NoOfEmployees': 103.0, 'CostIncurredAtStore'...   \n",
       "3  {'NoOfEmployees': 100.0, 'CostIncurredAtStore'...   \n",
       "4  {'NoOfEmployees': 80.0, 'CostIncurredAtStore':...   \n",
       "5  {'NoOfEmployees': 53.0, 'CostIncurredAtStore':...   \n",
       "6  {'NoOfEmployees': 36.0, 'CostIncurredAtStore':...   \n",
       "\n",
       "                                              2017:1  \\\n",
       "0  {'NoOfEmployees': 146.0, 'CostIncurredAtStore'...   \n",
       "1  {'NoOfEmployees': 212.0, 'CostIncurredAtStore'...   \n",
       "2  {'NoOfEmployees': 135.0, 'CostIncurredAtStore'...   \n",
       "3  {'NoOfEmployees': 116.0, 'CostIncurredAtStore'...   \n",
       "4  {'NoOfEmployees': 109.0, 'CostIncurredAtStore'...   \n",
       "5  {'NoOfEmployees': 62.0, 'CostIncurredAtStore':...   \n",
       "6  {'NoOfEmployees': 49.0, 'CostIncurredAtStore':...   \n",
       "\n",
       "                                              2017:2  \\\n",
       "0  {'NoOfEmployees': 157.0, 'CostIncurredAtStore'...   \n",
       "1  {'NoOfEmployees': 223.0, 'CostIncurredAtStore'...   \n",
       "2  {'NoOfEmployees': 148.0, 'CostIncurredAtStore'...   \n",
       "3  {'NoOfEmployees': 121.0, 'CostIncurredAtStore'...   \n",
       "4  {'NoOfEmployees': 117.0, 'CostIncurredAtStore'...   \n",
       "5  {'NoOfEmployees': 67.0, 'CostIncurredAtStore':...   \n",
       "6  {'NoOfEmployees': 52.0, 'CostIncurredAtStore':...   \n",
       "\n",
       "                                              2017:3  \\\n",
       "0  {'NoOfEmployees': 170.0, 'CostIncurredAtStore'...   \n",
       "1  {'NoOfEmployees': 239.0, 'CostIncurredAtStore'...   \n",
       "2  {'NoOfEmployees': 157.0, 'CostIncurredAtStore'...   \n",
       "3  {'NoOfEmployees': 123.0, 'CostIncurredAtStore'...   \n",
       "4  {'NoOfEmployees': 125.0, 'CostIncurredAtStore'...   \n",
       "5  {'NoOfEmployees': 74.0, 'CostIncurredAtStore':...   \n",
       "6  {'NoOfEmployees': 55.0, 'CostIncurredAtStore':...   \n",
       "\n",
       "                                              2017:4  \\\n",
       "0  {'NoOfEmployees': 176.0, 'CostIncurredAtStore'...   \n",
       "1  {'NoOfEmployees': 257.0, 'CostIncurredAtStore'...   \n",
       "2  {'NoOfEmployees': 166.0, 'CostIncurredAtStore'...   \n",
       "3  {'NoOfEmployees': 134.0, 'CostIncurredAtStore'...   \n",
       "4  {'NoOfEmployees': 136.0, 'CostIncurredAtStore'...   \n",
       "5  {'NoOfEmployees': 77.0, 'CostIncurredAtStore':...   \n",
       "6  {'NoOfEmployees': 59.0, 'CostIncurredAtStore':...   \n",
       "\n",
       "                                              2017:5  \\\n",
       "0  {'NoOfEmployees': 190.0, 'CostIncurredAtStore'...   \n",
       "1  {'NoOfEmployees': 268.0, 'CostIncurredAtStore'...   \n",
       "2  {'NoOfEmployees': 179.0, 'CostIncurredAtStore'...   \n",
       "3  {'NoOfEmployees': 142.0, 'CostIncurredAtStore'...   \n",
       "4  {'NoOfEmployees': 149.0, 'CostIncurredAtStore'...   \n",
       "5  {'NoOfEmployees': 83.0, 'CostIncurredAtStore':...   \n",
       "6  {'NoOfEmployees': 60.0, 'CostIncurredAtStore':...   \n",
       "\n",
       "                                              2017:6  \\\n",
       "0  {'NoOfEmployees': 206.0, 'CostIncurredAtStore'...   \n",
       "1  {'NoOfEmployees': 293.0, 'CostIncurredAtStore'...   \n",
       "2  {'NoOfEmployees': 193.0, 'CostIncurredAtStore'...   \n",
       "3  {'NoOfEmployees': 151.0, 'CostIncurredAtStore'...   \n",
       "4  {'NoOfEmployees': 160.0, 'CostIncurredAtStore'...   \n",
       "5  {'NoOfEmployees': 90.0, 'CostIncurredAtStore':...   \n",
       "6  {'NoOfEmployees': 61.0, 'CostIncurredAtStore':...   \n",
       "\n",
       "                                              2017:7  \\\n",
       "0  {'NoOfEmployees': 215.0, 'CostIncurredAtStore'...   \n",
       "1  {'NoOfEmployees': 304.0, 'CostIncurredAtStore'...   \n",
       "2  {'NoOfEmployees': 204.0, 'CostIncurredAtStore'...   \n",
       "3  {'NoOfEmployees': 155.0, 'CostIncurredAtStore'...   \n",
       "4  {'NoOfEmployees': 163.0, 'CostIncurredAtStore'...   \n",
       "5  {'NoOfEmployees': 97.0, 'CostIncurredAtStore':...   \n",
       "6  {'NoOfEmployees': 66.0, 'CostIncurredAtStore':...   \n",
       "\n",
       "                                              2017:8  \n",
       "0  {'NoOfEmployees': 222.0, 'CostIncurredAtStore'...  \n",
       "1  {'NoOfEmployees': 317.0, 'CostIncurredAtStore'...  \n",
       "2  {'NoOfEmployees': 223.0, 'CostIncurredAtStore'...  \n",
       "3                                                NaN  \n",
       "4  {'NoOfEmployees': 174.0, 'CostIncurredAtStore'...  \n",
       "5  {'NoOfEmployees': 99.0, 'CostIncurredAtStore':...  \n",
       "6                                                NaN  \n",
       "\n",
       "[7 rows x 48 columns]"
      ]
     },
     "execution_count": 3,
     "metadata": {},
     "output_type": "execute_result"
    }
   ],
   "source": [
    "stdf = coffee['Monthly Data'].apply(json.loads).apply(pd.Series)\n",
    "stdf.reset_index(drop=True)\n",
    "#stdf.head()"
   ]
  },
  {
   "cell_type": "code",
   "execution_count": 4,
   "metadata": {
    "collapsed": true,
    "extensions": {
     "jupyter_dashboards": {
      "version": 1,
      "views": {
       "grid_default": {
        "hidden": true
       },
       "report_default": {
        "hidden": true
       }
      }
     }
    }
   },
   "outputs": [],
   "source": [
    "coffee = coffee[['Store ID', 'Name', 'Brand', 'Store Number', 'Phone Number',\n",
    "       'Ownership Type', 'Street Combined', 'Street 1', 'Street 2', 'Street 3',\n",
    "       'City', 'State', 'Country', 'Coordinates', 'Latitude', 'Longitude',\n",
    "       'Start Date', 'Monthly Data']]"
   ]
  },
  {
   "cell_type": "code",
   "execution_count": 5,
   "metadata": {
    "collapsed": true,
    "extensions": {
     "jupyter_dashboards": {
      "version": 1,
      "views": {
       "grid_default": {
        "col": 0,
        "height": 14,
        "hidden": true,
        "row": 0,
        "width": 12
       },
       "report_default": {
        "hidden": true
       }
      }
     }
    }
   },
   "outputs": [],
   "source": [
    "#len(coffee.Country.unique())"
   ]
  },
  {
   "cell_type": "code",
   "execution_count": 6,
   "metadata": {
    "collapsed": true,
    "extensions": {
     "jupyter_dashboards": {
      "version": 1,
      "views": {
       "grid_default": {
        "hidden": true
       },
       "report_default": {
        "hidden": true
       }
      }
     }
    }
   },
   "outputs": [],
   "source": [
    "stdf.columns = range(0,len(stdf.columns))"
   ]
  },
  {
   "cell_type": "code",
   "execution_count": 7,
   "metadata": {
    "collapsed": true,
    "extensions": {
     "jupyter_dashboards": {
      "version": 1,
      "views": {
       "grid_default": {
        "col": 0,
        "height": 4,
        "hidden": true,
        "row": 0,
        "width": 4
       },
       "report_default": {
        "hidden": true
       }
      }
     }
    }
   },
   "outputs": [],
   "source": [
    "stdf['City'] = coffee['City']\n",
    "stdf['Name'] = coffee['Name']\n",
    "stdf_city = stdf[stdf['City'] == 'Pune']\n",
    "#len(stdf_city['Name'].unique())"
   ]
  },
  {
   "cell_type": "code",
   "execution_count": 9,
   "metadata": {
    "collapsed": true,
    "extensions": {
     "jupyter_dashboards": {
      "version": 1,
      "views": {
       "grid_default": {
        "col": 4,
        "height": 10,
        "hidden": true,
        "row": 0,
        "width": 4
       },
       "report_default": {
        "hidden": true
       }
      }
     }
    }
   },
   "outputs": [],
   "source": [
    "#stdf_city[0].apply(pd.Series)"
   ]
  },
  {
   "cell_type": "code",
   "execution_count": 10,
   "metadata": {
    "collapsed": true,
    "extensions": {
     "jupyter_dashboards": {
      "version": 1,
      "views": {
       "grid_default": {
        "hidden": true
       },
       "report_default": {
        "hidden": true
       }
      }
     }
    }
   },
   "outputs": [],
   "source": [
    "def imp(n,s):\n",
    "    l = []\n",
    "    for i in range(0,len(stdf_city.columns)-2):\n",
    "        try:\n",
    "           l.append(stdf_city[i][n][s])\n",
    "        except:\n",
    "            l.append(0)\n",
    "        \n",
    "    l = pd.Series(l)\n",
    "    #print(l)\n",
    "    return l\n"
   ]
  },
  {
   "cell_type": "markdown",
   "metadata": {
    "extensions": {
     "jupyter_dashboards": {
      "version": 1,
      "views": {
       "grid_default": {
        "col": 0,
        "height": 4,
        "hidden": false,
        "row": 0,
        "width": 3
       },
       "report_default": {}
      }
     }
    }
   },
   "source": [
    "# Performance of each store in Pune over time"
   ]
  },
  {
   "cell_type": "code",
   "execution_count": 46,
   "metadata": {
    "extensions": {
     "jupyter_dashboards": {
      "version": 1,
      "views": {
       "grid_default": {
        "col": 3,
        "height": 24,
        "hidden": false,
        "row": 0,
        "width": 9
       },
       "report_default": {
        "hidden": false
       }
      }
     }
    }
   },
   "outputs": [
    {
     "data": {
      "text/html": [
       "\n",
       "\n",
       "    <div class=\"bk-root\">\n",
       "        <div class=\"bk-plotdiv\" id=\"3fde0e7f-6be2-4102-8dab-be596944727f\"></div>\n",
       "    </div>\n",
       "<script type=\"text/javascript\">\n",
       "  \n",
       "  (function(global) {\n",
       "    function now() {\n",
       "      return new Date();\n",
       "    }\n",
       "  \n",
       "    var force = false;\n",
       "  \n",
       "    if (typeof (window._bokeh_onload_callbacks) === \"undefined\" || force === true) {\n",
       "      window._bokeh_onload_callbacks = [];\n",
       "      window._bokeh_is_loading = undefined;\n",
       "    }\n",
       "  \n",
       "  \n",
       "    \n",
       "    if (typeof (window._bokeh_timeout) === \"undefined\" || force === true) {\n",
       "      window._bokeh_timeout = Date.now() + 0;\n",
       "      window._bokeh_failed_load = false;\n",
       "    }\n",
       "  \n",
       "    var NB_LOAD_WARNING = {'data': {'text/html':\n",
       "       \"<div style='background-color: #fdd'>\\n\"+\n",
       "       \"<p>\\n\"+\n",
       "       \"BokehJS does not appear to have successfully loaded. If loading BokehJS from CDN, this \\n\"+\n",
       "       \"may be due to a slow or bad network connection. Possible fixes:\\n\"+\n",
       "       \"</p>\\n\"+\n",
       "       \"<ul>\\n\"+\n",
       "       \"<li>re-rerun `output_notebook()` to attempt to load from CDN again, or</li>\\n\"+\n",
       "       \"<li>use INLINE resources instead, as so:</li>\\n\"+\n",
       "       \"</ul>\\n\"+\n",
       "       \"<code>\\n\"+\n",
       "       \"from bokeh.resources import INLINE\\n\"+\n",
       "       \"output_notebook(resources=INLINE)\\n\"+\n",
       "       \"</code>\\n\"+\n",
       "       \"</div>\"}};\n",
       "  \n",
       "    function display_loaded() {\n",
       "      if (window.Bokeh !== undefined) {\n",
       "        var el = document.getElementById(\"3fde0e7f-6be2-4102-8dab-be596944727f\");\n",
       "        el.textContent = \"BokehJS \" + Bokeh.version + \" successfully loaded.\";\n",
       "      } else if (Date.now() < window._bokeh_timeout) {\n",
       "        setTimeout(display_loaded, 100)\n",
       "      }\n",
       "    }if ((window.Jupyter !== undefined) && Jupyter.notebook.kernel) {\n",
       "      comm_manager = Jupyter.notebook.kernel.comm_manager\n",
       "      comm_manager.register_target(\"d05aaa2c-2035-47a9-a8cf-0998be821541\", function () {});\n",
       "    }\n",
       "  \n",
       "    function run_callbacks() {\n",
       "      window._bokeh_onload_callbacks.forEach(function(callback) { callback() });\n",
       "      delete window._bokeh_onload_callbacks\n",
       "      console.info(\"Bokeh: all callbacks have finished\");\n",
       "    }\n",
       "  \n",
       "    function load_libs(js_urls, callback) {\n",
       "      window._bokeh_onload_callbacks.push(callback);\n",
       "      if (window._bokeh_is_loading > 0) {\n",
       "        console.log(\"Bokeh: BokehJS is being loaded, scheduling callback at\", now());\n",
       "        return null;\n",
       "      }\n",
       "      if (js_urls == null || js_urls.length === 0) {\n",
       "        run_callbacks();\n",
       "        return null;\n",
       "      }\n",
       "      console.log(\"Bokeh: BokehJS not loaded, scheduling load and callback at\", now());\n",
       "      window._bokeh_is_loading = js_urls.length;\n",
       "      for (var i = 0; i < js_urls.length; i++) {\n",
       "        var url = js_urls[i];\n",
       "        var s = document.createElement('script');\n",
       "        s.src = url;\n",
       "        s.async = false;\n",
       "        s.onreadystatechange = s.onload = function() {\n",
       "          window._bokeh_is_loading--;\n",
       "          if (window._bokeh_is_loading === 0) {\n",
       "            console.log(\"Bokeh: all BokehJS libraries loaded\");\n",
       "            run_callbacks()\n",
       "          }\n",
       "        };\n",
       "        s.onerror = function() {\n",
       "          console.warn(\"failed to load library \" + url);\n",
       "        };\n",
       "        console.log(\"Bokeh: injecting script tag for BokehJS library: \", url);\n",
       "        document.getElementsByTagName(\"head\")[0].appendChild(s);\n",
       "      }\n",
       "    };var element = document.getElementById(\"3fde0e7f-6be2-4102-8dab-be596944727f\");\n",
       "    if (element == null) {\n",
       "      console.log(\"Bokeh: ERROR: autoload.js configured with elementid '3fde0e7f-6be2-4102-8dab-be596944727f' but no matching script tag was found. \")\n",
       "      return false;\n",
       "    }\n",
       "  \n",
       "    var js_urls = [];\n",
       "  \n",
       "    var inline_js = [\n",
       "      function(Bokeh) {\n",
       "        (function() {\n",
       "          var fn = function() {\n",
       "            var docs_json = {\"20a57867-e6f7-447b-8624-281ea0e325a2\":{\"roots\":{\"references\":[{\"attributes\":{},\"id\":\"c3eb5d68-62dc-4ca0-ba36-2e940b5dcddf\",\"type\":\"BasicTicker\"},{\"attributes\":{\"plot\":{\"id\":\"6d05a878-e920-4d30-a90c-7ce941afde51\",\"subtype\":\"Figure\",\"type\":\"Plot\"},\"ticker\":{\"id\":\"c3eb5d68-62dc-4ca0-ba36-2e940b5dcddf\",\"type\":\"BasicTicker\"}},\"id\":\"aa11b9b6-c893-4248-bb45-10877975a251\",\"type\":\"Grid\"},{\"attributes\":{\"dimension\":1,\"plot\":{\"id\":\"6d05a878-e920-4d30-a90c-7ce941afde51\",\"subtype\":\"Figure\",\"type\":\"Plot\"},\"ticker\":{\"id\":\"0c9e6af3-2e49-4b14-b85f-88b66914d292\",\"type\":\"BasicTicker\"}},\"id\":\"c7565fe6-cf1d-450e-9501-6e16bf5a0b1e\",\"type\":\"Grid\"},{\"attributes\":{\"axis_label\":\"Employees\",\"formatter\":{\"id\":\"35f57089-a640-4b51-a9ec-f9f558823e45\",\"type\":\"BasicTickFormatter\"},\"plot\":{\"id\":\"6d05a878-e920-4d30-a90c-7ce941afde51\",\"subtype\":\"Figure\",\"type\":\"Plot\"},\"ticker\":{\"id\":\"0c9e6af3-2e49-4b14-b85f-88b66914d292\",\"type\":\"BasicTicker\"}},\"id\":\"b23c5df8-6dd8-4a1d-9ce9-32e5a9eca316\",\"type\":\"LinearAxis\"},{\"attributes\":{\"callback\":null},\"id\":\"67cd077e-6f77-403b-9e62-ae4a0d2bfbb5\",\"type\":\"DataRange1d\"},{\"attributes\":{\"plot\":{\"id\":\"6d05a878-e920-4d30-a90c-7ce941afde51\",\"subtype\":\"Figure\",\"type\":\"Plot\"}},\"id\":\"c925d2ac-9c96-42e6-aec8-f5a3533852b8\",\"type\":\"SaveTool\"},{\"attributes\":{\"active_drag\":\"auto\",\"active_scroll\":\"auto\",\"active_tap\":\"auto\",\"tools\":[{\"id\":\"49ed65af-098b-4a59-9981-603a66985f04\",\"type\":\"PanTool\"},{\"id\":\"5362c754-6b48-42c5-90ee-5f38e2d8c9cf\",\"type\":\"WheelZoomTool\"},{\"id\":\"31c6f773-1a58-4b33-916b-a80bd8b5edc3\",\"type\":\"BoxZoomTool\"},{\"id\":\"c925d2ac-9c96-42e6-aec8-f5a3533852b8\",\"type\":\"SaveTool\"},{\"id\":\"c09c961e-d7c7-4d56-a23b-35475ad205eb\",\"type\":\"ResetTool\"},{\"id\":\"91a04b12-ed52-404c-b976-4a5962fa76e4\",\"type\":\"HelpTool\"}]},\"id\":\"8b49f80e-24a5-496d-9283-f8454a708e21\",\"type\":\"Toolbar\"},{\"attributes\":{\"overlay\":{\"id\":\"0791968c-df73-4101-b977-6272ce865fae\",\"type\":\"BoxAnnotation\"},\"plot\":{\"id\":\"6d05a878-e920-4d30-a90c-7ce941afde51\",\"subtype\":\"Figure\",\"type\":\"Plot\"}},\"id\":\"31c6f773-1a58-4b33-916b-a80bd8b5edc3\",\"type\":\"BoxZoomTool\"},{\"attributes\":{\"line_alpha\":{\"value\":0.1},\"line_color\":{\"value\":\"#1f77b4\"},\"line_width\":{\"value\":2},\"x\":{\"field\":\"x\"},\"y\":{\"field\":\"y_cost\"}},\"id\":\"1127b30f-c497-42c8-83e4-98a43900cae1\",\"type\":\"Line\"},{\"attributes\":{\"plot\":null,\"text\":\"\"},\"id\":\"a2cb73c3-35ca-479b-8e82-06124ba875cc\",\"type\":\"Title\"},{\"attributes\":{},\"id\":\"fdc28caf-6e5f-4438-8004-beea069f202c\",\"type\":\"BasicTicker\"},{\"attributes\":{},\"id\":\"f51ab5d0-7034-4633-8c40-409c83691d1a\",\"type\":\"BasicTickFormatter\"},{\"attributes\":{\"active_drag\":\"auto\",\"active_scroll\":\"auto\",\"active_tap\":\"auto\",\"tools\":[{\"id\":\"8c18397d-7597-4ac2-8581-6764ce743371\",\"type\":\"PanTool\"},{\"id\":\"a78a629a-20e7-4960-8916-2a955f3546fe\",\"type\":\"WheelZoomTool\"},{\"id\":\"74264d10-8120-4e4a-b3c8-49649fd3a8e6\",\"type\":\"BoxZoomTool\"},{\"id\":\"f0060100-1d24-4611-87b9-38bbf85c1cd0\",\"type\":\"SaveTool\"},{\"id\":\"3441553a-6054-40b3-b34c-11e337415b4c\",\"type\":\"ResetTool\"},{\"id\":\"32c331fa-63c3-45b9-acf7-5220ec0ed464\",\"type\":\"HelpTool\"}]},\"id\":\"65a995a5-915d-4417-ae1e-4b82f1bf7b7c\",\"type\":\"Toolbar\"},{\"attributes\":{\"plot\":{\"id\":\"6d05a878-e920-4d30-a90c-7ce941afde51\",\"subtype\":\"Figure\",\"type\":\"Plot\"}},\"id\":\"5362c754-6b48-42c5-90ee-5f38e2d8c9cf\",\"type\":\"WheelZoomTool\"},{\"attributes\":{\"line_alpha\":{\"value\":0.1},\"line_color\":{\"value\":\"#1f77b4\"},\"line_width\":{\"value\":2},\"x\":{\"field\":\"x\"},\"y\":{\"field\":\"y_emp\"}},\"id\":\"41881054-d5de-4dd6-a283-f178e9784312\",\"type\":\"Line\"},{\"attributes\":{\"plot\":null,\"text\":\"\"},\"id\":\"0ef63afe-19f2-4e48-b0d0-08f144bee93e\",\"type\":\"Title\"},{\"attributes\":{\"axis_label\":\"Time in months\",\"formatter\":{\"id\":\"d81b17cb-b7bc-45bf-ae7f-6d87ba713aae\",\"type\":\"BasicTickFormatter\"},\"plot\":{\"id\":\"6d05a878-e920-4d30-a90c-7ce941afde51\",\"subtype\":\"Figure\",\"type\":\"Plot\"},\"ticker\":{\"id\":\"c3eb5d68-62dc-4ca0-ba36-2e940b5dcddf\",\"type\":\"BasicTicker\"}},\"id\":\"15cc2982-27cb-4c9a-a3b9-c5fdb219d5a5\",\"type\":\"LinearAxis\"},{\"attributes\":{\"plot\":{\"id\":\"6d05a878-e920-4d30-a90c-7ce941afde51\",\"subtype\":\"Figure\",\"type\":\"Plot\"}},\"id\":\"91a04b12-ed52-404c-b976-4a5962fa76e4\",\"type\":\"HelpTool\"},{\"attributes\":{\"dimension\":1,\"plot\":{\"id\":\"e9cbc846-a5e8-425d-adc7-904a08b6c712\",\"subtype\":\"Figure\",\"type\":\"Plot\"},\"ticker\":{\"id\":\"5f58d817-3095-4463-930a-73c2f89730bb\",\"type\":\"BasicTicker\"}},\"id\":\"afce6654-8809-4697-8e26-558182293400\",\"type\":\"Grid\"},{\"attributes\":{\"callback\":null},\"id\":\"5693761c-6290-4717-8f27-062ee5c6d451\",\"type\":\"DataRange1d\"},{\"attributes\":{\"bottom_units\":\"screen\",\"fill_alpha\":{\"value\":0.5},\"fill_color\":{\"value\":\"lightgrey\"},\"left_units\":\"screen\",\"level\":\"overlay\",\"line_alpha\":{\"value\":1.0},\"line_color\":{\"value\":\"black\"},\"line_dash\":[4,4],\"line_width\":{\"value\":2},\"plot\":null,\"render_mode\":\"css\",\"right_units\":\"screen\",\"top_units\":\"screen\"},\"id\":\"0791968c-df73-4101-b977-6272ce865fae\",\"type\":\"BoxAnnotation\"},{\"attributes\":{},\"id\":\"0c9e6af3-2e49-4b14-b85f-88b66914d292\",\"type\":\"BasicTicker\"},{\"attributes\":{\"bottom_units\":\"screen\",\"fill_alpha\":{\"value\":0.5},\"fill_color\":{\"value\":\"lightgrey\"},\"left_units\":\"screen\",\"level\":\"overlay\",\"line_alpha\":{\"value\":1.0},\"line_color\":{\"value\":\"black\"},\"line_dash\":[4,4],\"line_width\":{\"value\":2},\"plot\":null,\"render_mode\":\"css\",\"right_units\":\"screen\",\"top_units\":\"screen\"},\"id\":\"befdbd3d-1957-4f76-babe-0ab053e5683d\",\"type\":\"BoxAnnotation\"},{\"attributes\":{\"plot\":{\"id\":\"e9cbc846-a5e8-425d-adc7-904a08b6c712\",\"subtype\":\"Figure\",\"type\":\"Plot\"}},\"id\":\"32c331fa-63c3-45b9-acf7-5220ec0ed464\",\"type\":\"HelpTool\"},{\"attributes\":{\"children\":[{\"id\":\"ce8a3cbf-4a88-477d-93c5-c38db8c6cca9\",\"type\":\"Row\"},{\"id\":\"14b72103-67b4-433d-8770-26e5d7e83790\",\"type\":\"Row\"}]},\"id\":\"0b5db0a8-cfd8-4970-b47c-11ce9197c925\",\"type\":\"Column\"},{\"attributes\":{\"axis_label\":\"Time in months\",\"formatter\":{\"id\":\"f78e5d29-8d69-4710-ab74-5b9c15dd34f8\",\"type\":\"BasicTickFormatter\"},\"plot\":{\"id\":\"e9cbc846-a5e8-425d-adc7-904a08b6c712\",\"subtype\":\"Figure\",\"type\":\"Plot\"},\"ticker\":{\"id\":\"fdc28caf-6e5f-4438-8004-beea069f202c\",\"type\":\"BasicTicker\"}},\"id\":\"3a3f28a7-e51b-4cb0-8358-e8f3018267e0\",\"type\":\"LinearAxis\"},{\"attributes\":{\"axis_label\":\"Cost Incurred\",\"formatter\":{\"id\":\"f51ab5d0-7034-4633-8c40-409c83691d1a\",\"type\":\"BasicTickFormatter\"},\"plot\":{\"id\":\"e9cbc846-a5e8-425d-adc7-904a08b6c712\",\"subtype\":\"Figure\",\"type\":\"Plot\"},\"ticker\":{\"id\":\"5f58d817-3095-4463-930a-73c2f89730bb\",\"type\":\"BasicTicker\"}},\"id\":\"b393df5f-cc41-45e6-a7a3-1dab674e2c72\",\"type\":\"LinearAxis\"},{\"attributes\":{\"plot\":{\"id\":\"e9cbc846-a5e8-425d-adc7-904a08b6c712\",\"subtype\":\"Figure\",\"type\":\"Plot\"},\"ticker\":{\"id\":\"fdc28caf-6e5f-4438-8004-beea069f202c\",\"type\":\"BasicTicker\"}},\"id\":\"7987507a-1100-4963-917a-cf5eb2fa4fce\",\"type\":\"Grid\"},{\"attributes\":{},\"id\":\"f78e5d29-8d69-4710-ab74-5b9c15dd34f8\",\"type\":\"BasicTickFormatter\"},{\"attributes\":{\"plot\":{\"id\":\"6d05a878-e920-4d30-a90c-7ce941afde51\",\"subtype\":\"Figure\",\"type\":\"Plot\"}},\"id\":\"49ed65af-098b-4a59-9981-603a66985f04\",\"type\":\"PanTool\"},{\"attributes\":{\"callback\":null},\"id\":\"39560c2c-b867-4241-a151-f1d1655ccea8\",\"type\":\"DataRange1d\"},{\"attributes\":{\"plot\":{\"id\":\"e9cbc846-a5e8-425d-adc7-904a08b6c712\",\"subtype\":\"Figure\",\"type\":\"Plot\"}},\"id\":\"f0060100-1d24-4611-87b9-38bbf85c1cd0\",\"type\":\"SaveTool\"},{\"attributes\":{\"children\":[{\"id\":\"6d05a878-e920-4d30-a90c-7ce941afde51\",\"subtype\":\"Figure\",\"type\":\"Plot\"},{\"id\":\"e9cbc846-a5e8-425d-adc7-904a08b6c712\",\"subtype\":\"Figure\",\"type\":\"Plot\"}]},\"id\":\"ce8a3cbf-4a88-477d-93c5-c38db8c6cca9\",\"type\":\"Row\"},{\"attributes\":{\"active_drag\":\"auto\",\"active_scroll\":\"auto\",\"active_tap\":\"auto\",\"tools\":[{\"id\":\"271b5d35-0971-4268-817b-d07629d1898d\",\"type\":\"PanTool\"},{\"id\":\"762998af-dab5-4afa-a028-693baf0a46b0\",\"type\":\"WheelZoomTool\"},{\"id\":\"6a3d722f-4d92-446b-af46-66a3b8c51a7f\",\"type\":\"BoxZoomTool\"},{\"id\":\"20da9b10-938d-4fd4-a225-234abac4faa3\",\"type\":\"SaveTool\"},{\"id\":\"da431b9f-997f-4bb9-865e-f932f657112c\",\"type\":\"ResetTool\"},{\"id\":\"dbe18399-ead2-4f1a-9522-d6d3e8c15c96\",\"type\":\"HelpTool\"}]},\"id\":\"9a1da161-9259-4cec-bd8f-896526f4d9b8\",\"type\":\"Toolbar\"},{\"attributes\":{},\"id\":\"35f57089-a640-4b51-a9ec-f9f558823e45\",\"type\":\"BasicTickFormatter\"},{\"attributes\":{\"callback\":null},\"id\":\"efc43f76-1f34-4c69-8783-07c874285b2d\",\"type\":\"DataRange1d\"},{\"attributes\":{\"data_source\":{\"id\":\"0620154a-7589-4b61-8851-8ccf9023dedb\",\"type\":\"ColumnDataSource\"},\"glyph\":{\"id\":\"a59e953c-06c4-4afc-8d11-85ca5bf2b67e\",\"type\":\"Line\"},\"hover_glyph\":null,\"muted_glyph\":null,\"nonselection_glyph\":{\"id\":\"1127b30f-c497-42c8-83e4-98a43900cae1\",\"type\":\"Line\"},\"selection_glyph\":null},\"id\":\"79e5430f-33cb-4afc-a21b-4d05861acca5\",\"type\":\"GlyphRenderer\"},{\"attributes\":{\"overlay\":{\"id\":\"befdbd3d-1957-4f76-babe-0ab053e5683d\",\"type\":\"BoxAnnotation\"},\"plot\":{\"id\":\"e9cbc846-a5e8-425d-adc7-904a08b6c712\",\"subtype\":\"Figure\",\"type\":\"Plot\"}},\"id\":\"74264d10-8120-4e4a-b3c8-49649fd3a8e6\",\"type\":\"BoxZoomTool\"},{\"attributes\":{\"plot\":{\"id\":\"e9cbc846-a5e8-425d-adc7-904a08b6c712\",\"subtype\":\"Figure\",\"type\":\"Plot\"}},\"id\":\"8c18397d-7597-4ac2-8581-6764ce743371\",\"type\":\"PanTool\"},{\"attributes\":{\"plot\":{\"id\":\"e9cbc846-a5e8-425d-adc7-904a08b6c712\",\"subtype\":\"Figure\",\"type\":\"Plot\"}},\"id\":\"a78a629a-20e7-4960-8916-2a955f3546fe\",\"type\":\"WheelZoomTool\"},{\"attributes\":{\"line_color\":{\"value\":\"red\"},\"line_width\":{\"value\":2},\"x\":{\"field\":\"x\"},\"y\":{\"field\":\"y_profit\"}},\"id\":\"1ce89b98-bf5f-42e9-92ef-0932ec1fe570\",\"type\":\"Line\"},{\"attributes\":{},\"id\":\"d81b17cb-b7bc-45bf-ae7f-6d87ba713aae\",\"type\":\"BasicTickFormatter\"},{\"attributes\":{},\"id\":\"5f58d817-3095-4463-930a-73c2f89730bb\",\"type\":\"BasicTicker\"},{\"attributes\":{\"below\":[{\"id\":\"adf1a656-3e65-4295-a8a1-bde177d108dc\",\"type\":\"LinearAxis\"}],\"left\":[{\"id\":\"59fa28a9-a2f6-4096-87a6-45cf1401c205\",\"type\":\"LinearAxis\"}],\"plot_height\":290,\"plot_width\":390,\"renderers\":[{\"id\":\"adf1a656-3e65-4295-a8a1-bde177d108dc\",\"type\":\"LinearAxis\"},{\"id\":\"650ce204-9f9f-43e8-8c5e-7ac111f85303\",\"type\":\"Grid\"},{\"id\":\"59fa28a9-a2f6-4096-87a6-45cf1401c205\",\"type\":\"LinearAxis\"},{\"id\":\"8eab2a30-a49c-4296-8818-7b4f496f721c\",\"type\":\"Grid\"},{\"id\":\"b84bf86d-4762-4ebc-9389-2da3308a5ce2\",\"type\":\"BoxAnnotation\"},{\"id\":\"66ac254e-fa5e-45b6-949b-47faca797aa7\",\"type\":\"GlyphRenderer\"}],\"title\":{\"id\":\"547a341e-b818-4546-9ce4-3c4b67917221\",\"type\":\"Title\"},\"tool_events\":{\"id\":\"c7a359e9-f2ac-4c0a-a600-45555be48a52\",\"type\":\"ToolEvents\"},\"toolbar\":{\"id\":\"9a1da161-9259-4cec-bd8f-896526f4d9b8\",\"type\":\"Toolbar\"},\"toolbar_location\":null,\"x_range\":{\"id\":\"a329aa78-2431-497e-aaa3-02e71a3d7719\",\"type\":\"DataRange1d\"},\"y_range\":{\"id\":\"d8d9f121-4c0b-4f87-badf-c3d060feef56\",\"type\":\"DataRange1d\"}},\"id\":\"161d1cda-a2c3-43a5-b834-717f32fbd26b\",\"subtype\":\"Figure\",\"type\":\"Plot\"},{\"attributes\":{\"line_width\":{\"value\":2},\"x\":{\"field\":\"x\"},\"y\":{\"field\":\"y_emp\"}},\"id\":\"3c42957e-681d-48ba-9899-adab818494b4\",\"type\":\"Line\"},{\"attributes\":{\"line_color\":{\"value\":\"green\"},\"line_width\":{\"value\":2},\"x\":{\"field\":\"x\"},\"y\":{\"field\":\"y_cost\"}},\"id\":\"a59e953c-06c4-4afc-8d11-85ca5bf2b67e\",\"type\":\"Line\"},{\"attributes\":{\"plot\":{\"id\":\"6d05a878-e920-4d30-a90c-7ce941afde51\",\"subtype\":\"Figure\",\"type\":\"Plot\"}},\"id\":\"c09c961e-d7c7-4d56-a23b-35475ad205eb\",\"type\":\"ResetTool\"},{\"attributes\":{\"data_source\":{\"id\":\"0620154a-7589-4b61-8851-8ccf9023dedb\",\"type\":\"ColumnDataSource\"},\"glyph\":{\"id\":\"3c42957e-681d-48ba-9899-adab818494b4\",\"type\":\"Line\"},\"hover_glyph\":null,\"muted_glyph\":null,\"nonselection_glyph\":{\"id\":\"41881054-d5de-4dd6-a283-f178e9784312\",\"type\":\"Line\"},\"selection_glyph\":null},\"id\":\"9197833d-5329-4525-9e4f-193d4a74a15b\",\"type\":\"GlyphRenderer\"},{\"attributes\":{\"plot\":{\"id\":\"e9cbc846-a5e8-425d-adc7-904a08b6c712\",\"subtype\":\"Figure\",\"type\":\"Plot\"}},\"id\":\"3441553a-6054-40b3-b34c-11e337415b4c\",\"type\":\"ResetTool\"},{\"attributes\":{},\"id\":\"42b3bdee-958e-4935-b7fb-51106493c57a\",\"type\":\"ToolEvents\"},{\"attributes\":{},\"id\":\"c7a359e9-f2ac-4c0a-a600-45555be48a52\",\"type\":\"ToolEvents\"},{\"attributes\":{},\"id\":\"2c7a0eab-4c04-442e-9505-e26e5f7d6aaf\",\"type\":\"ToolEvents\"},{\"attributes\":{\"line_alpha\":{\"value\":0.1},\"line_color\":{\"value\":\"#1f77b4\"},\"line_width\":{\"value\":2},\"x\":{\"field\":\"x\"},\"y\":{\"field\":\"y_rev\"}},\"id\":\"896095bd-e347-46d8-aa9a-246bc1af28f3\",\"type\":\"Line\"},{\"attributes\":{\"dimension\":1,\"plot\":{\"id\":\"a945e6c3-16a9-430b-9565-dddf3329756a\",\"subtype\":\"Figure\",\"type\":\"Plot\"},\"ticker\":{\"id\":\"3b19c92f-e601-45f5-86b0-afa2aafd0a64\",\"type\":\"BasicTicker\"}},\"id\":\"fc5eff05-5eb3-4d6c-93a3-8b19c8321a56\",\"type\":\"Grid\"},{\"attributes\":{\"data_source\":{\"id\":\"0620154a-7589-4b61-8851-8ccf9023dedb\",\"type\":\"ColumnDataSource\"},\"glyph\":{\"id\":\"a2d5ed65-cb5d-4e7e-b7fb-7744cdbda213\",\"type\":\"Line\"},\"hover_glyph\":null,\"muted_glyph\":null,\"nonselection_glyph\":{\"id\":\"896095bd-e347-46d8-aa9a-246bc1af28f3\",\"type\":\"Line\"},\"selection_glyph\":null},\"id\":\"ec35811e-728f-44af-a5a1-39490d9aac5e\",\"type\":\"GlyphRenderer\"},{\"attributes\":{\"axis_label\":\"Profit\",\"formatter\":{\"id\":\"5cbc965c-5377-4e24-939b-3dcada4a61d7\",\"type\":\"BasicTickFormatter\"},\"plot\":{\"id\":\"161d1cda-a2c3-43a5-b834-717f32fbd26b\",\"subtype\":\"Figure\",\"type\":\"Plot\"},\"ticker\":{\"id\":\"cde001ab-d37f-403c-9366-70432e317a4d\",\"type\":\"BasicTicker\"}},\"id\":\"59fa28a9-a2f6-4096-87a6-45cf1401c205\",\"type\":\"LinearAxis\"},{\"attributes\":{\"plot\":{\"id\":\"a945e6c3-16a9-430b-9565-dddf3329756a\",\"subtype\":\"Figure\",\"type\":\"Plot\"}},\"id\":\"20e0b43e-7db1-41ef-8350-bf92731a2aed\",\"type\":\"WheelZoomTool\"},{\"attributes\":{},\"id\":\"ffeb61d9-809c-43ea-b12f-88a589baacea\",\"type\":\"BasicTicker\"},{\"attributes\":{\"callback\":null},\"id\":\"191c25a6-70ed-400c-a0bc-3aee8984586c\",\"type\":\"DataRange1d\"},{\"attributes\":{\"line_color\":{\"value\":\"blue\"},\"line_width\":{\"value\":2},\"x\":{\"field\":\"x\"},\"y\":{\"field\":\"y_rev\"}},\"id\":\"a2d5ed65-cb5d-4e7e-b7fb-7744cdbda213\",\"type\":\"Line\"},{\"attributes\":{\"plot\":{\"id\":\"a945e6c3-16a9-430b-9565-dddf3329756a\",\"subtype\":\"Figure\",\"type\":\"Plot\"},\"ticker\":{\"id\":\"ffeb61d9-809c-43ea-b12f-88a589baacea\",\"type\":\"BasicTicker\"}},\"id\":\"b16ccd42-00d1-4376-b230-1d694e9fa01c\",\"type\":\"Grid\"},{\"attributes\":{},\"id\":\"f818469e-314b-43dc-b4dd-e40da7e5c2ba\",\"type\":\"BasicTicker\"},{\"attributes\":{},\"id\":\"cde001ab-d37f-403c-9366-70432e317a4d\",\"type\":\"BasicTicker\"},{\"attributes\":{\"overlay\":{\"id\":\"3338e800-1ece-4a82-846b-dea528df436c\",\"type\":\"BoxAnnotation\"},\"plot\":{\"id\":\"a945e6c3-16a9-430b-9565-dddf3329756a\",\"subtype\":\"Figure\",\"type\":\"Plot\"}},\"id\":\"58a31fd0-30b5-44b2-800a-71eb0ae35006\",\"type\":\"BoxZoomTool\"},{\"attributes\":{},\"id\":\"739193fd-a911-477e-954d-72cce6bab4c4\",\"type\":\"ToolEvents\"},{\"attributes\":{\"dimension\":1,\"plot\":{\"id\":\"161d1cda-a2c3-43a5-b834-717f32fbd26b\",\"subtype\":\"Figure\",\"type\":\"Plot\"},\"ticker\":{\"id\":\"cde001ab-d37f-403c-9366-70432e317a4d\",\"type\":\"BasicTicker\"}},\"id\":\"8eab2a30-a49c-4296-8818-7b4f496f721c\",\"type\":\"Grid\"},{\"attributes\":{\"callback\":null},\"id\":\"a329aa78-2431-497e-aaa3-02e71a3d7719\",\"type\":\"DataRange1d\"},{\"attributes\":{\"data_source\":{\"id\":\"0620154a-7589-4b61-8851-8ccf9023dedb\",\"type\":\"ColumnDataSource\"},\"glyph\":{\"id\":\"1ce89b98-bf5f-42e9-92ef-0932ec1fe570\",\"type\":\"Line\"},\"hover_glyph\":null,\"muted_glyph\":null,\"nonselection_glyph\":{\"id\":\"f53351f5-5f2e-42f4-b984-208dae35e7cb\",\"type\":\"Line\"},\"selection_glyph\":null},\"id\":\"66ac254e-fa5e-45b6-949b-47faca797aa7\",\"type\":\"GlyphRenderer\"},{\"attributes\":{\"axis_label\":\"Time in months\",\"formatter\":{\"id\":\"803fad22-abfc-4713-ad5d-ef1430f86623\",\"type\":\"BasicTickFormatter\"},\"plot\":{\"id\":\"a945e6c3-16a9-430b-9565-dddf3329756a\",\"subtype\":\"Figure\",\"type\":\"Plot\"},\"ticker\":{\"id\":\"ffeb61d9-809c-43ea-b12f-88a589baacea\",\"type\":\"BasicTicker\"}},\"id\":\"b6fc5dc9-e83c-4643-a672-a6546e9d6937\",\"type\":\"LinearAxis\"},{\"attributes\":{\"plot\":null,\"text\":\"\"},\"id\":\"547a341e-b818-4546-9ce4-3c4b67917221\",\"type\":\"Title\"},{\"attributes\":{},\"id\":\"3b19c92f-e601-45f5-86b0-afa2aafd0a64\",\"type\":\"BasicTicker\"},{\"attributes\":{\"plot\":{\"id\":\"a945e6c3-16a9-430b-9565-dddf3329756a\",\"subtype\":\"Figure\",\"type\":\"Plot\"}},\"id\":\"e129607a-09fc-409c-a6d6-c13b87d722ed\",\"type\":\"PanTool\"},{\"attributes\":{\"bottom_units\":\"screen\",\"fill_alpha\":{\"value\":0.5},\"fill_color\":{\"value\":\"lightgrey\"},\"left_units\":\"screen\",\"level\":\"overlay\",\"line_alpha\":{\"value\":1.0},\"line_color\":{\"value\":\"black\"},\"line_dash\":[4,4],\"line_width\":{\"value\":2},\"plot\":null,\"render_mode\":\"css\",\"right_units\":\"screen\",\"top_units\":\"screen\"},\"id\":\"3338e800-1ece-4a82-846b-dea528df436c\",\"type\":\"BoxAnnotation\"},{\"attributes\":{\"below\":[{\"id\":\"b6fc5dc9-e83c-4643-a672-a6546e9d6937\",\"type\":\"LinearAxis\"}],\"left\":[{\"id\":\"4fdac9d1-68c1-419b-aedf-c2542a139fd0\",\"type\":\"LinearAxis\"}],\"plot_height\":290,\"plot_width\":390,\"renderers\":[{\"id\":\"b6fc5dc9-e83c-4643-a672-a6546e9d6937\",\"type\":\"LinearAxis\"},{\"id\":\"b16ccd42-00d1-4376-b230-1d694e9fa01c\",\"type\":\"Grid\"},{\"id\":\"4fdac9d1-68c1-419b-aedf-c2542a139fd0\",\"type\":\"LinearAxis\"},{\"id\":\"fc5eff05-5eb3-4d6c-93a3-8b19c8321a56\",\"type\":\"Grid\"},{\"id\":\"3338e800-1ece-4a82-846b-dea528df436c\",\"type\":\"BoxAnnotation\"},{\"id\":\"ec35811e-728f-44af-a5a1-39490d9aac5e\",\"type\":\"GlyphRenderer\"}],\"title\":{\"id\":\"3a9a6582-1725-47c9-bab9-90aa1046bf80\",\"type\":\"Title\"},\"tool_events\":{\"id\":\"739193fd-a911-477e-954d-72cce6bab4c4\",\"type\":\"ToolEvents\"},\"toolbar\":{\"id\":\"6ea67116-7cd0-43d6-b821-bb553f4b2817\",\"type\":\"Toolbar\"},\"toolbar_location\":null,\"x_range\":{\"id\":\"eb073899-dce7-42f4-a604-dc89ea71d19d\",\"type\":\"DataRange1d\"},\"y_range\":{\"id\":\"191c25a6-70ed-400c-a0bc-3aee8984586c\",\"type\":\"DataRange1d\"}},\"id\":\"a945e6c3-16a9-430b-9565-dddf3329756a\",\"subtype\":\"Figure\",\"type\":\"Plot\"},{\"attributes\":{\"line_alpha\":{\"value\":0.1},\"line_color\":{\"value\":\"#1f77b4\"},\"line_width\":{\"value\":2},\"x\":{\"field\":\"x\"},\"y\":{\"field\":\"y_profit\"}},\"id\":\"f53351f5-5f2e-42f4-b984-208dae35e7cb\",\"type\":\"Line\"},{\"attributes\":{\"axis_label\":\"Time in months\",\"formatter\":{\"id\":\"82980a39-d1cf-47d0-aec9-448625e4d1aa\",\"type\":\"BasicTickFormatter\"},\"plot\":{\"id\":\"161d1cda-a2c3-43a5-b834-717f32fbd26b\",\"subtype\":\"Figure\",\"type\":\"Plot\"},\"ticker\":{\"id\":\"f818469e-314b-43dc-b4dd-e40da7e5c2ba\",\"type\":\"BasicTicker\"}},\"id\":\"adf1a656-3e65-4295-a8a1-bde177d108dc\",\"type\":\"LinearAxis\"},{\"attributes\":{\"active_drag\":\"auto\",\"active_scroll\":\"auto\",\"active_tap\":\"auto\",\"tools\":[{\"id\":\"e129607a-09fc-409c-a6d6-c13b87d722ed\",\"type\":\"PanTool\"},{\"id\":\"20e0b43e-7db1-41ef-8350-bf92731a2aed\",\"type\":\"WheelZoomTool\"},{\"id\":\"58a31fd0-30b5-44b2-800a-71eb0ae35006\",\"type\":\"BoxZoomTool\"},{\"id\":\"3e84f46d-031f-4652-83cd-76f5c8f347d7\",\"type\":\"SaveTool\"},{\"id\":\"39739a9e-0b78-4ba0-aec6-c396be1fad17\",\"type\":\"ResetTool\"},{\"id\":\"af210edf-9385-444c-a488-462793b59e8a\",\"type\":\"HelpTool\"}]},\"id\":\"6ea67116-7cd0-43d6-b821-bb553f4b2817\",\"type\":\"Toolbar\"},{\"attributes\":{\"below\":[{\"id\":\"15cc2982-27cb-4c9a-a3b9-c5fdb219d5a5\",\"type\":\"LinearAxis\"}],\"left\":[{\"id\":\"b23c5df8-6dd8-4a1d-9ce9-32e5a9eca316\",\"type\":\"LinearAxis\"}],\"plot_height\":290,\"plot_width\":390,\"renderers\":[{\"id\":\"15cc2982-27cb-4c9a-a3b9-c5fdb219d5a5\",\"type\":\"LinearAxis\"},{\"id\":\"aa11b9b6-c893-4248-bb45-10877975a251\",\"type\":\"Grid\"},{\"id\":\"b23c5df8-6dd8-4a1d-9ce9-32e5a9eca316\",\"type\":\"LinearAxis\"},{\"id\":\"c7565fe6-cf1d-450e-9501-6e16bf5a0b1e\",\"type\":\"Grid\"},{\"id\":\"0791968c-df73-4101-b977-6272ce865fae\",\"type\":\"BoxAnnotation\"},{\"id\":\"9197833d-5329-4525-9e4f-193d4a74a15b\",\"type\":\"GlyphRenderer\"}],\"title\":{\"id\":\"a2cb73c3-35ca-479b-8e82-06124ba875cc\",\"type\":\"Title\"},\"tool_events\":{\"id\":\"2c7a0eab-4c04-442e-9505-e26e5f7d6aaf\",\"type\":\"ToolEvents\"},\"toolbar\":{\"id\":\"8b49f80e-24a5-496d-9283-f8454a708e21\",\"type\":\"Toolbar\"},\"toolbar_location\":null,\"x_range\":{\"id\":\"5693761c-6290-4717-8f27-062ee5c6d451\",\"type\":\"DataRange1d\"},\"y_range\":{\"id\":\"67cd077e-6f77-403b-9e62-ae4a0d2bfbb5\",\"type\":\"DataRange1d\"}},\"id\":\"6d05a878-e920-4d30-a90c-7ce941afde51\",\"subtype\":\"Figure\",\"type\":\"Plot\"},{\"attributes\":{\"plot\":{\"id\":\"a945e6c3-16a9-430b-9565-dddf3329756a\",\"subtype\":\"Figure\",\"type\":\"Plot\"}},\"id\":\"3e84f46d-031f-4652-83cd-76f5c8f347d7\",\"type\":\"SaveTool\"},{\"attributes\":{\"callback\":null},\"id\":\"eb073899-dce7-42f4-a604-dc89ea71d19d\",\"type\":\"DataRange1d\"},{\"attributes\":{\"plot\":{\"id\":\"a945e6c3-16a9-430b-9565-dddf3329756a\",\"subtype\":\"Figure\",\"type\":\"Plot\"}},\"id\":\"af210edf-9385-444c-a488-462793b59e8a\",\"type\":\"HelpTool\"},{\"attributes\":{\"plot\":{\"id\":\"161d1cda-a2c3-43a5-b834-717f32fbd26b\",\"subtype\":\"Figure\",\"type\":\"Plot\"}},\"id\":\"271b5d35-0971-4268-817b-d07629d1898d\",\"type\":\"PanTool\"},{\"attributes\":{\"callback\":null,\"column_names\":[\"x\",\"y_rev\",\"y_emp\",\"y_cost\",\"y_profit\"],\"data\":{\"x\":[0,1,2,3,4,5,6,7,8,9,10,11,12,13,14,15,16,17,18,19,20,21,22,23,24,25,26,27,28,29,30,31,32,33,34,35,36,37,38,39,40,41,42,43,44,45,46,47],\"y_cost\":{\"__ndarray__\":\"AAAAAABAlUAAAAAAAPCVQAAAAAAAuJZAAAAAAACQlEAAAAAAAPyWQAAAAAAAWqNAAAAAAABipEAAAAAAAECmQAAAAAAAwJhAAAAAAADYmkAAAAAAAKSbQAAAAAAA8J1AAAAAAAAGoEAAAAAAAOqgQAAAAAAAuqFAAAAAAADYokAAAAAAAGKoQAAAAAAA47NAAAAAAADWtEAAAAAAAIi2QAAAAAAAmqpAAAAAAAB4q0AAAAAAAMytQAAAAAAAhq9AAAAAAAAvsUAAAAAAAMyxQAAAAAAAy7JAAAAAAAB9s0AAAAAAAH63QAAAAAAAvMRAAAAAAIAkxUAAAAAAgHDFQAAAAAAAh7lAAAAAAAB3u0AAAAAAANK8QAAAAAAAJL5AAAAAAADMv0AAAAAAgAzBQAAAAAAAfMJAAAAAAADjw0AAAAAAAN/GQAAAAAAAucdAAAAAAADmyUAAAAAAgMPKQAAAAAAArctAAAAAAIClzUAAAAAAAOnOQAAAAAAAG9BA\",\"dtype\":\"float64\",\"shape\":[48]},\"y_emp\":{\"__ndarray__\":\"AAAAAAAAKEAAAAAAAAAqQAAAAAAAACxAAAAAAAAAJkAAAAAAAAAuQAAAAAAAAD9AAAAAAAAAQEAAAAAAAABBQAAAAAAAADBAAAAAAAAAMUAAAAAAAAAzQAAAAAAAADVAAAAAAAAAN0AAAAAAAAA4QAAAAAAAADlAAAAAAAAAPEAAAAAAAIBBQAAAAAAAAE9AAAAAAAAAUUAAAAAAAABSQAAAAAAAgEJAAAAAAAAAREAAAAAAAABFQAAAAAAAAEdAAAAAAACASUAAAAAAAABKQAAAAAAAAExAAAAAAAAATUAAAAAAAABTQAAAAAAAYGBAAAAAAAAAYUAAAAAAAIBhQAAAAAAAQFRAAAAAAAAAVUAAAAAAAIBVQAAAAAAAQFdAAAAAAABAWUAAAAAAAABaQAAAAAAAgFxAAAAAAACAXkAAAAAAAEBiQAAAAAAAoGNAAAAAAABAZUAAAAAAAABmQAAAAAAAwGdAAAAAAADAaUAAAAAAAOBqQAAAAAAAwGtA\",\"dtype\":\"float64\",\"shape\":[48]},\"y_profit\":{\"__ndarray__\":\"AAAAAACAWsAAAAAAAIBRwAAAAAAAADtAAAAAAACAU0AAAAAAAAA1QAAAAAAAgGXAAAAAAACAUcAAAAAAAAA/QAAAAAAAADLAAAAAAAAAUMAAAAAAAIBNQAAAAAAAAEhAAAAAAAAAWsAAAAAAAAA4QAAAAAAAYGNAAAAAAADAYkAAAAAAAABRwAAAAAAAwHLAAAAAAABwd8AAAAAAAKB0QAAAAAAAAGXAAAAAAACAbEAAAAAAAMBVQAAAAAAAEHNAAAAAAADAVcAAAAAAAABoQAAAAAAAEHFAAAAAAADAVkAAAAAAANB3QAAAAAAAkIXAAAAAAACQe0AAAAAAALiCwAAAAAAAYGNAAAAAAABAWcAAAAAAABiBQAAAAAAAwFVAAAAAAADweEAAAAAAAHCEwAAAAAAAsHvAAAAAAADAfMAAAAAAAKB2QAAAAAAAyIlAAAAAAACQckAAAAAAAAiEQAAAAAAAgIXAAAAAAACQgMAAAAAAAOCPwAAAAAAAII1A\",\"dtype\":\"float64\",\"shape\":[48]},\"y_rev\":{\"__ndarray__\":\"AAAAAACYk0AAAAAAANiUQAAAAAAAJJdAAAAAAADIlUAAAAAAAFCXQAAAAAAAAqJAAAAAAADWo0AAAAAAAH6mQAAAAAAAeJhAAAAAAADYmUAAAAAAAJCcQAAAAAAAsJ5AAAAAAABsnkAAAAAAABqhQAAAAAAA8KJAAAAAAAAEpEAAAAAAANqnQAAAAAAAt7JAAAAAAABfs0AAAAAAANK3QAAAAAAASqlAAAAAAABArUAAAAAAAHquQAAAAAAA9LBAAAAAAADYsEAAAAAAAIyyQAAAAAAA3LNAAAAAAADYs0AAAAAAAPu4QAAAAAAAY8NAAAAAAAABxkAAAAAAAEXEQAAAAAAAIrpAAAAAAAASu0AAAAAAAPW+QAAAAAAAe75AAAAAAICtwEAAAAAAAIu/QAAAAACAnsFAAAAAAAD9wkAAAAAAAJTHQAAAAACAVclAAAAAAIB6ykAAAAAAAATMQAAAAAAAVcpAAAAAAICczEAAAAAAAOvMQAAAAAAABNFA\",\"dtype\":\"float64\",\"shape\":[48]}}},\"id\":\"0620154a-7589-4b61-8851-8ccf9023dedb\",\"type\":\"ColumnDataSource\"},{\"attributes\":{},\"id\":\"803fad22-abfc-4713-ad5d-ef1430f86623\",\"type\":\"BasicTickFormatter\"},{\"attributes\":{\"children\":[{\"id\":\"a945e6c3-16a9-430b-9565-dddf3329756a\",\"subtype\":\"Figure\",\"type\":\"Plot\"},{\"id\":\"161d1cda-a2c3-43a5-b834-717f32fbd26b\",\"subtype\":\"Figure\",\"type\":\"Plot\"}]},\"id\":\"14b72103-67b4-433d-8770-26e5d7e83790\",\"type\":\"Row\"},{\"attributes\":{\"below\":[{\"id\":\"3a3f28a7-e51b-4cb0-8358-e8f3018267e0\",\"type\":\"LinearAxis\"}],\"left\":[{\"id\":\"b393df5f-cc41-45e6-a7a3-1dab674e2c72\",\"type\":\"LinearAxis\"}],\"plot_height\":290,\"plot_width\":390,\"renderers\":[{\"id\":\"3a3f28a7-e51b-4cb0-8358-e8f3018267e0\",\"type\":\"LinearAxis\"},{\"id\":\"7987507a-1100-4963-917a-cf5eb2fa4fce\",\"type\":\"Grid\"},{\"id\":\"b393df5f-cc41-45e6-a7a3-1dab674e2c72\",\"type\":\"LinearAxis\"},{\"id\":\"afce6654-8809-4697-8e26-558182293400\",\"type\":\"Grid\"},{\"id\":\"befdbd3d-1957-4f76-babe-0ab053e5683d\",\"type\":\"BoxAnnotation\"},{\"id\":\"79e5430f-33cb-4afc-a21b-4d05861acca5\",\"type\":\"GlyphRenderer\"}],\"title\":{\"id\":\"0ef63afe-19f2-4e48-b0d0-08f144bee93e\",\"type\":\"Title\"},\"tool_events\":{\"id\":\"42b3bdee-958e-4935-b7fb-51106493c57a\",\"type\":\"ToolEvents\"},\"toolbar\":{\"id\":\"65a995a5-915d-4417-ae1e-4b82f1bf7b7c\",\"type\":\"Toolbar\"},\"toolbar_location\":null,\"x_range\":{\"id\":\"efc43f76-1f34-4c69-8783-07c874285b2d\",\"type\":\"DataRange1d\"},\"y_range\":{\"id\":\"39560c2c-b867-4241-a151-f1d1655ccea8\",\"type\":\"DataRange1d\"}},\"id\":\"e9cbc846-a5e8-425d-adc7-904a08b6c712\",\"subtype\":\"Figure\",\"type\":\"Plot\"},{\"attributes\":{\"axis_label\":\"Revenue\",\"formatter\":{\"id\":\"e23db20e-3f71-473b-b880-b6b4224857bb\",\"type\":\"BasicTickFormatter\"},\"plot\":{\"id\":\"a945e6c3-16a9-430b-9565-dddf3329756a\",\"subtype\":\"Figure\",\"type\":\"Plot\"},\"ticker\":{\"id\":\"3b19c92f-e601-45f5-86b0-afa2aafd0a64\",\"type\":\"BasicTicker\"}},\"id\":\"4fdac9d1-68c1-419b-aedf-c2542a139fd0\",\"type\":\"LinearAxis\"},{\"attributes\":{\"plot\":{\"id\":\"161d1cda-a2c3-43a5-b834-717f32fbd26b\",\"subtype\":\"Figure\",\"type\":\"Plot\"},\"ticker\":{\"id\":\"f818469e-314b-43dc-b4dd-e40da7e5c2ba\",\"type\":\"BasicTicker\"}},\"id\":\"650ce204-9f9f-43e8-8c5e-7ac111f85303\",\"type\":\"Grid\"},{\"attributes\":{\"callback\":null},\"id\":\"d8d9f121-4c0b-4f87-badf-c3d060feef56\",\"type\":\"DataRange1d\"},{\"attributes\":{\"overlay\":{\"id\":\"b84bf86d-4762-4ebc-9389-2da3308a5ce2\",\"type\":\"BoxAnnotation\"},\"plot\":{\"id\":\"161d1cda-a2c3-43a5-b834-717f32fbd26b\",\"subtype\":\"Figure\",\"type\":\"Plot\"}},\"id\":\"6a3d722f-4d92-446b-af46-66a3b8c51a7f\",\"type\":\"BoxZoomTool\"},{\"attributes\":{\"plot\":{\"id\":\"161d1cda-a2c3-43a5-b834-717f32fbd26b\",\"subtype\":\"Figure\",\"type\":\"Plot\"}},\"id\":\"da431b9f-997f-4bb9-865e-f932f657112c\",\"type\":\"ResetTool\"},{\"attributes\":{\"bottom_units\":\"screen\",\"fill_alpha\":{\"value\":0.5},\"fill_color\":{\"value\":\"lightgrey\"},\"left_units\":\"screen\",\"level\":\"overlay\",\"line_alpha\":{\"value\":1.0},\"line_color\":{\"value\":\"black\"},\"line_dash\":[4,4],\"line_width\":{\"value\":2},\"plot\":null,\"render_mode\":\"css\",\"right_units\":\"screen\",\"top_units\":\"screen\"},\"id\":\"b84bf86d-4762-4ebc-9389-2da3308a5ce2\",\"type\":\"BoxAnnotation\"},{\"attributes\":{},\"id\":\"5cbc965c-5377-4e24-939b-3dcada4a61d7\",\"type\":\"BasicTickFormatter\"},{\"attributes\":{\"plot\":{\"id\":\"161d1cda-a2c3-43a5-b834-717f32fbd26b\",\"subtype\":\"Figure\",\"type\":\"Plot\"}},\"id\":\"dbe18399-ead2-4f1a-9522-d6d3e8c15c96\",\"type\":\"HelpTool\"},{\"attributes\":{\"plot\":{\"id\":\"a945e6c3-16a9-430b-9565-dddf3329756a\",\"subtype\":\"Figure\",\"type\":\"Plot\"}},\"id\":\"39739a9e-0b78-4ba0-aec6-c396be1fad17\",\"type\":\"ResetTool\"},{\"attributes\":{\"plot\":null,\"text\":\"\"},\"id\":\"3a9a6582-1725-47c9-bab9-90aa1046bf80\",\"type\":\"Title\"},{\"attributes\":{\"plot\":{\"id\":\"161d1cda-a2c3-43a5-b834-717f32fbd26b\",\"subtype\":\"Figure\",\"type\":\"Plot\"}},\"id\":\"20da9b10-938d-4fd4-a225-234abac4faa3\",\"type\":\"SaveTool\"},{\"attributes\":{},\"id\":\"e23db20e-3f71-473b-b880-b6b4224857bb\",\"type\":\"BasicTickFormatter\"},{\"attributes\":{\"sizing_mode\":\"scale_width\",\"toolbar_location\":\"above\",\"tools\":[{\"id\":\"49ed65af-098b-4a59-9981-603a66985f04\",\"type\":\"PanTool\"},{\"id\":\"5362c754-6b48-42c5-90ee-5f38e2d8c9cf\",\"type\":\"WheelZoomTool\"},{\"id\":\"31c6f773-1a58-4b33-916b-a80bd8b5edc3\",\"type\":\"BoxZoomTool\"},{\"id\":\"c925d2ac-9c96-42e6-aec8-f5a3533852b8\",\"type\":\"SaveTool\"},{\"id\":\"c09c961e-d7c7-4d56-a23b-35475ad205eb\",\"type\":\"ResetTool\"},{\"id\":\"91a04b12-ed52-404c-b976-4a5962fa76e4\",\"type\":\"HelpTool\"},{\"id\":\"8c18397d-7597-4ac2-8581-6764ce743371\",\"type\":\"PanTool\"},{\"id\":\"a78a629a-20e7-4960-8916-2a955f3546fe\",\"type\":\"WheelZoomTool\"},{\"id\":\"74264d10-8120-4e4a-b3c8-49649fd3a8e6\",\"type\":\"BoxZoomTool\"},{\"id\":\"f0060100-1d24-4611-87b9-38bbf85c1cd0\",\"type\":\"SaveTool\"},{\"id\":\"3441553a-6054-40b3-b34c-11e337415b4c\",\"type\":\"ResetTool\"},{\"id\":\"32c331fa-63c3-45b9-acf7-5220ec0ed464\",\"type\":\"HelpTool\"},{\"id\":\"e129607a-09fc-409c-a6d6-c13b87d722ed\",\"type\":\"PanTool\"},{\"id\":\"20e0b43e-7db1-41ef-8350-bf92731a2aed\",\"type\":\"WheelZoomTool\"},{\"id\":\"58a31fd0-30b5-44b2-800a-71eb0ae35006\",\"type\":\"BoxZoomTool\"},{\"id\":\"3e84f46d-031f-4652-83cd-76f5c8f347d7\",\"type\":\"SaveTool\"},{\"id\":\"39739a9e-0b78-4ba0-aec6-c396be1fad17\",\"type\":\"ResetTool\"},{\"id\":\"af210edf-9385-444c-a488-462793b59e8a\",\"type\":\"HelpTool\"},{\"id\":\"271b5d35-0971-4268-817b-d07629d1898d\",\"type\":\"PanTool\"},{\"id\":\"762998af-dab5-4afa-a028-693baf0a46b0\",\"type\":\"WheelZoomTool\"},{\"id\":\"6a3d722f-4d92-446b-af46-66a3b8c51a7f\",\"type\":\"BoxZoomTool\"},{\"id\":\"20da9b10-938d-4fd4-a225-234abac4faa3\",\"type\":\"SaveTool\"},{\"id\":\"da431b9f-997f-4bb9-865e-f932f657112c\",\"type\":\"ResetTool\"},{\"id\":\"dbe18399-ead2-4f1a-9522-d6d3e8c15c96\",\"type\":\"HelpTool\"}]},\"id\":\"68aff237-ee9d-46b2-8537-957d228df5dc\",\"type\":\"ToolbarBox\"},{\"attributes\":{\"plot\":{\"id\":\"161d1cda-a2c3-43a5-b834-717f32fbd26b\",\"subtype\":\"Figure\",\"type\":\"Plot\"}},\"id\":\"762998af-dab5-4afa-a028-693baf0a46b0\",\"type\":\"WheelZoomTool\"},{\"attributes\":{\"children\":[{\"id\":\"68aff237-ee9d-46b2-8537-957d228df5dc\",\"type\":\"ToolbarBox\"},{\"id\":\"0b5db0a8-cfd8-4970-b47c-11ce9197c925\",\"type\":\"Column\"}]},\"id\":\"ed67c416-1da3-4deb-8d05-7fb42857a19a\",\"type\":\"Column\"},{\"attributes\":{},\"id\":\"82980a39-d1cf-47d0-aec9-448625e4d1aa\",\"type\":\"BasicTickFormatter\"}],\"root_ids\":[\"ed67c416-1da3-4deb-8d05-7fb42857a19a\"]},\"title\":\"Bokeh Application\",\"version\":\"0.12.5\"}};\n",
       "            var render_items = [{\"docid\":\"20a57867-e6f7-447b-8624-281ea0e325a2\",\"elementid\":\"3fde0e7f-6be2-4102-8dab-be596944727f\",\"modelid\":\"ed67c416-1da3-4deb-8d05-7fb42857a19a\",\"notebook_comms_target\":\"d05aaa2c-2035-47a9-a8cf-0998be821541\"}];\n",
       "            \n",
       "            Bokeh.embed.embed_items(docs_json, render_items);\n",
       "          };\n",
       "          if (document.readyState != \"loading\") fn();\n",
       "          else document.addEventListener(\"DOMContentLoaded\", fn);\n",
       "        })();\n",
       "      },\n",
       "      function(Bokeh) {\n",
       "      }\n",
       "    ];\n",
       "  \n",
       "    function run_inline_js() {\n",
       "      \n",
       "      if ((window.Bokeh !== undefined) || (force === true)) {\n",
       "        for (var i = 0; i < inline_js.length; i++) {\n",
       "          inline_js[i](window.Bokeh);\n",
       "        }if (force === true) {\n",
       "          display_loaded();\n",
       "        }} else if (Date.now() < window._bokeh_timeout) {\n",
       "        setTimeout(run_inline_js, 100);\n",
       "      } else if (!window._bokeh_failed_load) {\n",
       "        console.log(\"Bokeh: BokehJS failed to load within specified timeout.\");\n",
       "        window._bokeh_failed_load = true;\n",
       "      } else if (force !== true) {\n",
       "        var cell = $(document.getElementById(\"3fde0e7f-6be2-4102-8dab-be596944727f\")).parents('.cell').data().cell;\n",
       "        cell.output_area.append_execute_result(NB_LOAD_WARNING)\n",
       "      }\n",
       "  \n",
       "    }\n",
       "  \n",
       "    if (window._bokeh_is_loading === 0) {\n",
       "      console.log(\"Bokeh: BokehJS loaded, going straight to plotting\");\n",
       "      run_inline_js();\n",
       "    } else {\n",
       "      load_libs(js_urls, function() {\n",
       "        console.log(\"Bokeh: BokehJS plotting callback run at\", now());\n",
       "        run_inline_js();\n",
       "      });\n",
       "    }\n",
       "  }(this));\n",
       "</script>"
      ]
     },
     "metadata": {},
     "output_type": "display_data"
    },
    {
     "data": {
      "text/html": [
       "<p><code>&lt;Bokeh Notebook handle for <strong>In[46]</strong>&gt;</code></p>"
      ],
      "text/plain": [
       "<bokeh.io._CommsHandle at 0x7f97ad44c7b8>"
      ]
     },
     "execution_count": 46,
     "metadata": {},
     "output_type": "execute_result"
    }
   ],
   "source": [
    "from bokeh.io import gridplot, output_file, show\n",
    "x = pd.Series(stdf_city.columns[:-2].values)\n",
    "y_rev = imp(17751,'RevenueOfStore')\n",
    "y_emp = imp(17751,'NoOfEmployees')\n",
    "y_cost = imp(17751,'CostIncurredAtStore')\n",
    "y_profit = imp(17751,'Profit')\n",
    "source = ColumnDataSource(dict(\n",
    "    x= x,\n",
    "    y_rev= y_rev,\n",
    "    y_emp = y_emp,\n",
    "    y_cost = y_cost,\n",
    "    y_profit = y_profit\n",
    "        \n",
    "    ))\n",
    "def update_n (Store_id):\n",
    "    x = pd.Series(stdf_city.columns[:-2].values)\n",
    "    y_rev = imp(Store_id,'RevenueOfStore')\n",
    "    y_emp = imp(Store_id,'NoOfEmployees')\n",
    "    y_cost = imp(Store_id,'CostIncurredAtStore')\n",
    "    y_profit = imp(Store_id,'Profit')\n",
    "    new_data = dict(\n",
    "        x= x,\n",
    "        y_rev= y_rev,\n",
    "        y_emp = y_emp,\n",
    "        y_cost = y_cost,\n",
    "        y_profit = y_profit\n",
    "        \n",
    "    )\n",
    "    source.data = new_data #updating the source data with the newdata i.e data of each year\n",
    "    store = stdf_city.get_value(Store_id,'Name')\n",
    "    p2.title.text = 'Revenue of '+store+' store' #updating the title \n",
    "    p3.title.text = 'Employees in '+store+' store'\n",
    "    p4.title.text = 'Cost Incurred in '+store+' store'\n",
    "    p5.title.text = 'Profit of '+store+' store'\n",
    "    push_notebook() #push this into chart\n",
    "p2 = figure(width=390,height=290,x_axis_label='Time in months',y_axis_label='Revenue')\n",
    "p2.line(x='x', y='y_rev',line_width=2,source = source,line_color = 'blue',line_dash='solid')\n",
    "\n",
    "p3 = figure(width=390,height=290,x_axis_label='Time in months',y_axis_label='Employees')\n",
    "p3.line(x='x', y='y_emp',line_width=2,source = source,line_color = 'black',line_dash='solid')\n",
    "\n",
    "p4 = figure(width=390,height=290,x_axis_label='Time in months',y_axis_label='Cost Incurred')\n",
    "p4.line(x='x', y='y_cost',line_width=2,source = source,line_color = 'green',line_dash='solid')\n",
    "\n",
    "p5 = figure(width=390,height=290,x_axis_label='Time in months',y_axis_label='Profit')\n",
    "p5.line(x='x', y='y_profit',line_width=2,source = source,line_color = 'red',line_dash='solid')\n",
    "\n",
    "p = gridplot([[p3, p4], [p2, p5]])\n",
    "\n",
    "# show the results\n",
    "show(p,notebook_handle=True)"
   ]
  },
  {
   "cell_type": "code",
   "execution_count": 47,
   "metadata": {
    "extensions": {
     "jupyter_dashboards": {
      "version": 1,
      "views": {
       "grid_default": {
        "col": 0,
        "height": 3,
        "hidden": false,
        "row": 4,
        "width": 3
       },
       "report_default": {
        "hidden": false
       }
      }
     }
    }
   },
   "outputs": [
    {
     "data": {
      "application/vnd.jupyter.widget-view+json": {
       "model_id": "b99b9b8c89934604a3ffcb48bd0ab1e9"
      }
     },
     "metadata": {},
     "output_type": "display_data"
    },
    {
     "data": {
      "text/plain": [
       "<function __main__.update_n>"
      ]
     },
     "execution_count": 47,
     "metadata": {},
     "output_type": "execute_result"
    }
   ],
   "source": [
    "interact(update_n, Store_id=(i for i in stdf_city.index.values))"
   ]
  }
 ],
 "metadata": {
  "extensions": {
   "jupyter_dashboards": {
    "activeView": "grid_default",
    "version": 1,
    "views": {
     "grid_default": {
      "cellMargin": 10,
      "defaultCellHeight": 20,
      "maxColumns": 12,
      "name": "grid",
      "type": "grid"
     },
     "report_default": {
      "name": "report",
      "type": "report"
     }
    }
   }
  },
  "kernelspec": {
   "display_name": "Python [default]",
   "language": "python",
   "name": "python3"
  },
  "language_info": {
   "codemirror_mode": {
    "name": "ipython",
    "version": 3
   },
   "file_extension": ".py",
   "mimetype": "text/x-python",
   "name": "python",
   "nbconvert_exporter": "python",
   "pygments_lexer": "ipython3",
   "version": "3.6.1"
  },
  "widgets": {
   "state": {
    "759d6355b6474e6badeadcdce042df1e": {
     "views": [
      {
       "cell_index": 9
      }
     ]
    }
   },
   "version": "1.2.0"
  }
 },
 "nbformat": 4,
 "nbformat_minor": 2
}
